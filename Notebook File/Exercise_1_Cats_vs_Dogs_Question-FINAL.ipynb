{
 "cells": [
  {
   "cell_type": "code",
   "execution_count": 1,
   "metadata": {
    "colab": {},
    "colab_type": "code",
    "id": "dn-6c02VmqiN"
   },
   "outputs": [],
   "source": [
    "# ATTENTION: Please do not alter any of the provided code in the exercise. Only add your own code where indicated\n",
    "# ATTENTION: Please do not add or remove any cells in the exercise. The grader will check specific cells based on the cell position.\n",
    "# ATTENTION: Please use the provided epoch values when training.\n",
    "\n",
    "# In this exercise you will train a CNN on the FULL Cats-v-dogs dataset\n",
    "# This will require you doing a lot of data preprocessing because\n",
    "# the dataset isn't split into training and validation for you\n",
    "# This code block has all the required inputs\n",
    "import os\n",
    "import zipfile\n",
    "import random\n",
    "import tensorflow as tf\n",
    "import shutil\n",
    "from tensorflow.keras.optimizers import RMSprop\n",
    "from tensorflow.keras.preprocessing.image import ImageDataGenerator\n",
    "from shutil import copyfile\n",
    "from os import getcwd"
   ]
  },
  {
   "cell_type": "code",
   "execution_count": 11,
   "metadata": {
    "colab": {},
    "colab_type": "code",
    "id": "3sd9dQWa23aj"
   },
   "outputs": [
    {
     "name": "stdout",
     "output_type": "stream",
     "text": [
      "/bin/sh: 1: wget: not found\r\n"
     ]
    },
    {
     "ename": "FileNotFoundError",
     "evalue": "[Errno 2] No such file or directory: '/tmp/cats-and-dogs.zip'",
     "output_type": "error",
     "traceback": [
      "\u001b[0;31m---------------------------------------------------------------------------\u001b[0m",
      "\u001b[0;31mFileNotFoundError\u001b[0m                         Traceback (most recent call last)",
      "\u001b[0;32m<ipython-input-11-d9b87729d9b9>\u001b[0m in \u001b[0;36m<module>\u001b[0;34m\u001b[0m\n\u001b[1;32m      2\u001b[0m \u001b[0;34m\u001b[0m\u001b[0m\n\u001b[1;32m      3\u001b[0m \u001b[0mlocal_zip\u001b[0m \u001b[0;34m=\u001b[0m \u001b[0;34m'/tmp/cats-and-dogs.zip'\u001b[0m\u001b[0;34m\u001b[0m\u001b[0;34m\u001b[0m\u001b[0m\n\u001b[0;32m----> 4\u001b[0;31m \u001b[0mzip_ref\u001b[0m \u001b[0;34m=\u001b[0m \u001b[0mzipfile\u001b[0m\u001b[0;34m.\u001b[0m\u001b[0mZipFile\u001b[0m\u001b[0;34m(\u001b[0m\u001b[0mlocal_zip\u001b[0m\u001b[0;34m,\u001b[0m \u001b[0;34m'r'\u001b[0m\u001b[0;34m)\u001b[0m\u001b[0;34m\u001b[0m\u001b[0;34m\u001b[0m\u001b[0m\n\u001b[0m\u001b[1;32m      5\u001b[0m \u001b[0mzip_ref\u001b[0m\u001b[0;34m.\u001b[0m\u001b[0mextractall\u001b[0m\u001b[0;34m(\u001b[0m\u001b[0;34m'/tmp'\u001b[0m\u001b[0;34m)\u001b[0m\u001b[0;34m\u001b[0m\u001b[0;34m\u001b[0m\u001b[0m\n\u001b[1;32m      6\u001b[0m \u001b[0mzip_ref\u001b[0m\u001b[0;34m.\u001b[0m\u001b[0mclose\u001b[0m\u001b[0;34m(\u001b[0m\u001b[0;34m)\u001b[0m\u001b[0;34m\u001b[0m\u001b[0;34m\u001b[0m\u001b[0m\n",
      "\u001b[0;32m/usr/lib/python3.6/zipfile.py\u001b[0m in \u001b[0;36m__init__\u001b[0;34m(self, file, mode, compression, allowZip64)\u001b[0m\n\u001b[1;32m   1111\u001b[0m             \u001b[0;32mwhile\u001b[0m \u001b[0;32mTrue\u001b[0m\u001b[0;34m:\u001b[0m\u001b[0;34m\u001b[0m\u001b[0;34m\u001b[0m\u001b[0m\n\u001b[1;32m   1112\u001b[0m                 \u001b[0;32mtry\u001b[0m\u001b[0;34m:\u001b[0m\u001b[0;34m\u001b[0m\u001b[0;34m\u001b[0m\u001b[0m\n\u001b[0;32m-> 1113\u001b[0;31m                     \u001b[0mself\u001b[0m\u001b[0;34m.\u001b[0m\u001b[0mfp\u001b[0m \u001b[0;34m=\u001b[0m \u001b[0mio\u001b[0m\u001b[0;34m.\u001b[0m\u001b[0mopen\u001b[0m\u001b[0;34m(\u001b[0m\u001b[0mfile\u001b[0m\u001b[0;34m,\u001b[0m \u001b[0mfilemode\u001b[0m\u001b[0;34m)\u001b[0m\u001b[0;34m\u001b[0m\u001b[0;34m\u001b[0m\u001b[0m\n\u001b[0m\u001b[1;32m   1114\u001b[0m                 \u001b[0;32mexcept\u001b[0m \u001b[0mOSError\u001b[0m\u001b[0;34m:\u001b[0m\u001b[0;34m\u001b[0m\u001b[0;34m\u001b[0m\u001b[0m\n\u001b[1;32m   1115\u001b[0m                     \u001b[0;32mif\u001b[0m \u001b[0mfilemode\u001b[0m \u001b[0;32min\u001b[0m \u001b[0mmodeDict\u001b[0m\u001b[0;34m:\u001b[0m\u001b[0;34m\u001b[0m\u001b[0;34m\u001b[0m\u001b[0m\n",
      "\u001b[0;31mFileNotFoundError\u001b[0m: [Errno 2] No such file or directory: '/tmp/cats-and-dogs.zip'"
     ]
    }
   ],
   "source": [
    "!wget --no-check-certificate \\\n",
    "    \"https://download.microsoft.com/download/3/E/1/3E1C3F21-ECDB-4869-8368-6DEBA77B919F/kagglecatsanddogs_3367a.zip\" \\\n",
    "    -O \"/tmp/cats-and-dogs.zip\"\n",
    "\n",
    "local_zip = '/tmp/cats-and-dogs.zip'\n",
    "zip_ref = zipfile.ZipFile(local_zip, 'r')\n",
    "zip_ref.extractall('/tmp')\n",
    "zip_ref.close()\n"
   ]
  },
  {
   "cell_type": "code",
   "execution_count": 10,
   "metadata": {},
   "outputs": [
    {
     "ename": "SyntaxError",
     "evalue": "invalid syntax (<ipython-input-10-f3e3673fb4d2>, line 1)",
     "output_type": "error",
     "traceback": [
      "\u001b[0;36m  File \u001b[0;32m\"<ipython-input-10-f3e3673fb4d2>\"\u001b[0;36m, line \u001b[0;32m1\u001b[0m\n\u001b[0;31m    brew install wget\u001b[0m\n\u001b[0m               ^\u001b[0m\n\u001b[0;31mSyntaxError\u001b[0m\u001b[0;31m:\u001b[0m invalid syntax\n"
     ]
    }
   ],
   "source": []
  },
  {
   "cell_type": "code",
   "execution_count": 13,
   "metadata": {
    "colab": {},
    "colab_type": "code",
    "id": "gi3yD62a6X3S"
   },
   "outputs": [
    {
     "name": "stdout",
     "output_type": "stream",
     "text": [
      "['cat.401.jpg', 'cat.873.jpg', 'cat.2237.jpg', 'cat.716.jpg', 'cat.377.jpg', 'cat.2120.jpg', 'cat.2419.jpg', 'cat.2078.jpg', 'cat.588.jpg', 'cat.559.jpg', 'cat.138.jpg', 'cat.26.jpg', 'cat.195.jpg', 'cat.632.jpg', 'cat.2465.jpg', 'cat.986.jpg', 'cat.253.jpg', 'cat.2004.jpg', 'cat.957.jpg', 'cat.525.jpg', 'cat.282.jpg', 'cat.2313.jpg', 'cat.144.jpg', 'cat.808.jpg', 'cat.21.jpg', 'cat.635.jpg', 'cat.192.jpg', 'cat.2462.jpg', 'cat.254.jpg', 'cat.981.jpg', 'cat.2003.jpg', 'cat.285.jpg', 'cat.522.jpg', 'cat.950.jpg', 'cat.2314.jpg', 'cat.143.jpg', 'cat.874.jpg', 'cat.406.jpg', 'cat.2230.jpg', 'cat.711.jpg', 'cat.370.jpg', 'cat.2127.jpg', 'cat.649.jpg', 'cat.228.jpg', 'cat.698.jpg', 'cat.2368.jpg', 'cat.2184.jpg', 'cat.806.jpg', 'cat.474.jpg', 'cat.2242.jpg', 'cat.763.jpg', 'cat.2293.jpg', 'cat.302.jpg', 'cat.2155.jpg', 'cat.408.jpg', 'cat.82.jpg', 'cat.53.jpg', 'cat.2129.jpg', 'cat.647.jpg', 'cat.2410.jpg', 'cat.581.jpg', 'cat.226.jpg', 'cat.2071.jpg', 'cat.550.jpg', 'cat.922.jpg', 'cat.2366.jpg', 'cat.131.jpg', 'cat.696.jpg', 'cat.2239.jpg', 'cat.85.jpg', 'cat.54.jpg', 'cat.718.jpg', 'cat.379.jpg', 'cat.640.jpg', 'cat.2417.jpg', 'cat.221.jpg', 'cat.586.jpg', 'cat.2076.jpg', 'cat.925.jpg', 'cat.557.jpg', 'cat.2361.jpg', 'cat.691.jpg', 'cat.136.jpg', 'cat.2183.jpg', 'cat.473.jpg', 'cat.801.jpg', 'cat.2245.jpg', 'cat.764.jpg', 'cat.28.jpg', 'cat.2294.jpg', 'cat.305.jpg', 'cat.2152.jpg', 'cat.988.jpg', 'cat.959.jpg', 'cat.899.jpg', 'cat.61.jpg', 'cat.848.jpg', 'cat.2354.jpg', 'cat.103.jpg', 'cat.2092.jpg', 'cat.910.jpg', 'cat.562.jpg', 'cat.214.jpg', 'cat.2043.jpg', 'cat.675.jpg', 'cat.2385.jpg', 'cat.2422.jpg', 'cat.330.jpg', 'cat.497.jpg', 'cat.2167.jpg', 'cat.751.jpg', 'cat.2270.jpg', 'cat.780.jpg', 'cat.446.jpg', 'cat.834.jpg', 'cat.2328.jpg', 'cat.268.jpg', 'cat.609.jpg', 'cat.490.jpg', 'cat.337.jpg', 'cat.2160.jpg', 'cat.756.jpg', 'cat.2277.jpg', 'cat.787.jpg', 'cat.833.jpg', 'cat.441.jpg', 'cat.178.jpg', 'cat.2488.jpg', 'cat.519.jpg', 'cat.2038.jpg', 'cat.2459.jpg', 'cat.66.jpg', 'cat.2353.jpg', 'cat.104.jpg', 'cat.2095.jpg', 'cat.565.jpg', 'cat.917.jpg', 'cat.213.jpg', 'cat.2044.jpg', 'cat.672.jpg', 'cat.2425.jpg', 'cat.2382.jpg', 'cat.339.jpg', 'cat.14.jpg', 'cat.758.jpg', 'cat.789.jpg', 'cat.2279.jpg', 'cat.2321.jpg', 'cat.2486.jpg', 'cat.176.jpg', 'cat.517.jpg', 'cat.965.jpg', 'cat.261.jpg', 'cat.2036.jpg', 'cat.600.jpg', 'cat.2457.jpg', 'cat.345.jpg', 'cat.890.jpg', 'cat.2112.jpg', 'cat.724.jpg', 'cat.68.jpg', 'cat.2205.jpg', 'cat.394.jpg', 'cat.841.jpg', 'cat.433.jpg', 'cat.919.jpg', 'cat.897.jpg', 'cat.342.jpg', 'cat.2115.jpg', 'cat.723.jpg', 'cat.2202.jpg', 'cat.434.jpg', 'cat.846.jpg', 'cat.393.jpg', 'cat.2169.jpg', 'cat.499.jpg', 'cat.13.jpg', 'cat.448.jpg', 'cat.2481.jpg', 'cat.2326.jpg', 'cat.171.jpg', 'cat.962.jpg', 'cat.510.jpg', 'cat.266.jpg', 'cat.2031.jpg', 'cat.607.jpg', 'cat.2450.jpg', 'cat.2213.jpg', 'cat.382.jpg', 'cat.857.jpg', 'cat.425.jpg', 'cat.2104.jpg', 'cat.353.jpg', 'cat.886.jpg', 'cat.732.jpg', 'cat.2020.jpg', 'cat.277.jpg', 'cat.2441.jpg', 'cat.616.jpg', 'cat.160.jpg', 'cat.2337.jpg', 'cat.2490.jpg', 'cat.501.jpg', 'cat.973.jpg', 'cat.459.jpg', 'cat.488.jpg', 'cat.2178.jpg', 'cat.2027.jpg', 'cat.270.jpg', 'cat.2446.jpg', 'cat.611.jpg', 'cat.167.jpg', 'cat.2497.jpg', 'cat.2330.jpg', 'cat.974.jpg', 'cat.506.jpg', 'cat.2268.jpg', 'cat.798.jpg', 'cat.328.jpg', 'cat.749.jpg', 'cat.908.jpg', 'cat.2214.jpg', 'cat.422.jpg', 'cat.850.jpg', 'cat.385.jpg', 'cat.2103.jpg', 'cat.881.jpg', 'cat.354.jpg', 'cat.79.jpg', 'cat.735.jpg', 'cat.2029.jpg', 'cat.2448.jpg', 'cat.2499.jpg', 'cat.169.jpg', 'cat.508.jpg', 'cat.796.jpg', 'cat.2266.jpg', 'cat.450.jpg', 'cat.822.jpg', 'cat.2171.jpg', 'cat.326.jpg', 'cat.481.jpg', 'cat.747.jpg', 'cat.2055.jpg', 'cat.202.jpg', 'cat.2393.jpg', 'cat.2434.jpg', 'cat.663.jpg', 'cat.115.jpg', 'cat.2342.jpg', 'cat.906.jpg', 'cat.574.jpg', 'cat.2084.jpg', 'cat.77.jpg', 'cat.2052.jpg', 'cat.205.jpg', 'cat.2433.jpg', 'cat.2394.jpg', 'cat.664.jpg', 'cat.112.jpg', 'cat.2345.jpg', 'cat.573.jpg', 'cat.901.jpg', 'cat.2083.jpg', 'cat.859.jpg', 'cat.888.jpg', 'cat.70.jpg', 'cat.279.jpg', 'cat.618.jpg', 'cat.2339.jpg', 'cat.791.jpg', 'cat.2261.jpg', 'cat.825.jpg', 'cat.457.jpg', 'cat.2176.jpg', 'cat.486.jpg', 'cat.321.jpg', 'cat.740.jpg', 'cat.546.jpg', 'cat.934.jpg', 'cat.127.jpg', 'cat.680.jpg', 'cat.2370.jpg', 'cat.2406.jpg', 'cat.651.jpg', 'cat.2067.jpg', 'cat.597.jpg', 'cat.230.jpg', 'cat.709.jpg', 'cat.45.jpg', 'cat.368.jpg', 'cat.2228.jpg', 'cat.94.jpg', 'cat.948.jpg', 'cat.999.jpg', 'cat.39.jpg', 'cat.2285.jpg', 'cat.775.jpg', 'cat.2143.jpg', 'cat.6.jpg', 'cat.314.jpg', 'cat.810.jpg', 'cat.462.jpg', 'cat.2192.jpg', 'cat.2254.jpg', 'cat.2282.jpg', 'cat.772.jpg', 'cat.1.jpg', 'cat.2144.jpg', 'cat.313.jpg', 'cat.465.jpg', 'cat.817.jpg', 'cat.2195.jpg', 'cat.2253.jpg', 'cat.933.jpg', 'cat.541.jpg', 'cat.687.jpg', 'cat.120.jpg', 'cat.2377.jpg', 'cat.2401.jpg', 'cat.656.jpg', 'cat.2060.jpg', 'cat.237.jpg', 'cat.590.jpg', 'cat.42.jpg', 'cat.2138.jpg', 'cat.419.jpg', 'cat.93.jpg', 'cat.941.jpg', 'cat.533.jpg', 'cat.294.jpg', 'cat.152.jpg', 'cat.2305.jpg', 'cat.2473.jpg', 'cat.183.jpg', 'cat.624.jpg', 'cat.2012.jpg', 'cat.990.jpg', 'cat.245.jpg', 'cat.30.jpg', 'cat.819.jpg', 'cat.2379.jpg', 'cat.689.jpg', 'cat.658.jpg', 'cat.239.jpg', 'cat.700.jpg', 'cat.2136.jpg', 'cat.361.jpg', 'cat.417.jpg', 'cat.865.jpg', 'cat.2221.jpg', 'cat.548.jpg', 'cat.129.jpg', 'cat.2408.jpg', 'cat.599.jpg', 'cat.2069.jpg', 'cat.707.jpg', 'cat.2131.jpg', 'cat.366.jpg', 'cat.862.jpg', 'cat.410.jpg', 'cat.2226.jpg', 'cat.293.jpg', 'cat.534.jpg', 'cat.946.jpg', 'cat.155.jpg', 'cat.2302.jpg', 'cat.2474.jpg', 'cat.623.jpg', 'cat.184.jpg', 'cat.2015.jpg', 'cat.242.jpg', 'cat.997.jpg', 'cat.37.jpg', 'cat.8.jpg', 'cat.2114.jpg', 'cat.343.jpg', 'cat.896.jpg', 'cat.722.jpg', 'cat.2203.jpg', 'cat.392.jpg', 'cat.435.jpg', 'cat.847.jpg', 'cat.498.jpg', 'cat.2168.jpg', 'cat.12.jpg', 'cat.449.jpg', 'cat.170.jpg', 'cat.2327.jpg', 'cat.2480.jpg', 'cat.963.jpg', 'cat.511.jpg', 'cat.2030.jpg', 'cat.267.jpg', 'cat.2451.jpg', 'cat.606.jpg', 'cat.338.jpg', 'cat.759.jpg', 'cat.15.jpg', 'cat.2278.jpg', 'cat.788.jpg', 'cat.177.jpg', 'cat.2487.jpg', 'cat.2320.jpg', 'cat.516.jpg', 'cat.964.jpg', 'cat.2037.jpg', 'cat.260.jpg', 'cat.2456.jpg', 'cat.601.jpg', 'cat.2113.jpg', 'cat.891.jpg', 'cat.344.jpg', 'cat.69.jpg', 'cat.725.jpg', 'cat.2204.jpg', 'cat.840.jpg', 'cat.432.jpg', 'cat.395.jpg', 'cat.918.jpg', 'cat.2161.jpg', 'cat.336.jpg', 'cat.491.jpg', 'cat.757.jpg', 'cat.786.jpg', 'cat.2276.jpg', 'cat.832.jpg', 'cat.440.jpg', 'cat.2489.jpg', 'cat.179.jpg', 'cat.518.jpg', 'cat.2039.jpg', 'cat.2458.jpg', 'cat.67.jpg', 'cat.105.jpg', 'cat.2352.jpg', 'cat.564.jpg', 'cat.916.jpg', 'cat.2094.jpg', 'cat.2045.jpg', 'cat.212.jpg', 'cat.2383.jpg', 'cat.2424.jpg', 'cat.673.jpg', 'cat.898.jpg', 'cat.60.jpg', 'cat.849.jpg', 'cat.102.jpg', 'cat.2355.jpg', 'cat.911.jpg', 'cat.563.jpg', 'cat.2093.jpg', 'cat.2042.jpg', 'cat.215.jpg', 'cat.2423.jpg', 'cat.2384.jpg', 'cat.674.jpg', 'cat.2166.jpg', 'cat.496.jpg', 'cat.331.jpg', 'cat.750.jpg', 'cat.781.jpg', 'cat.2271.jpg', 'cat.447.jpg', 'cat.835.jpg', 'cat.2329.jpg', 'cat.269.jpg', 'cat.608.jpg', 'cat.2238.jpg', 'cat.84.jpg', 'cat.719.jpg', 'cat.55.jpg', 'cat.378.jpg', 'cat.2416.jpg', 'cat.641.jpg', 'cat.2077.jpg', 'cat.587.jpg', 'cat.220.jpg', 'cat.924.jpg', 'cat.556.jpg', 'cat.137.jpg', 'cat.690.jpg', 'cat.2360.jpg', 'cat.472.jpg', 'cat.800.jpg', 'cat.2182.jpg', 'cat.2244.jpg', 'cat.29.jpg', 'cat.2295.jpg', 'cat.765.jpg', 'cat.2153.jpg', 'cat.304.jpg', 'cat.989.jpg', 'cat.958.jpg', 'cat.807.jpg', 'cat.475.jpg', 'cat.2185.jpg', 'cat.2243.jpg', 'cat.2292.jpg', 'cat.762.jpg', 'cat.2154.jpg', 'cat.303.jpg', 'cat.409.jpg', 'cat.83.jpg', 'cat.52.jpg', 'cat.2128.jpg', 'cat.2411.jpg', 'cat.646.jpg', 'cat.2070.jpg', 'cat.227.jpg', 'cat.580.jpg', 'cat.551.jpg', 'cat.923.jpg', 'cat.697.jpg', 'cat.130.jpg', 'cat.2367.jpg', 'cat.809.jpg', 'cat.20.jpg', 'cat.2463.jpg', 'cat.193.jpg', 'cat.634.jpg', 'cat.2002.jpg', 'cat.980.jpg', 'cat.255.jpg', 'cat.523.jpg', 'cat.951.jpg', 'cat.284.jpg', 'cat.142.jpg', 'cat.2315.jpg', 'cat.875.jpg', 'cat.407.jpg', 'cat.2231.jpg', 'cat.710.jpg', 'cat.2126.jpg', 'cat.371.jpg', 'cat.648.jpg', 'cat.229.jpg', 'cat.2369.jpg', 'cat.699.jpg', 'cat.400.jpg', 'cat.872.jpg', 'cat.2236.jpg', 'cat.717.jpg', 'cat.2121.jpg', 'cat.376.jpg', 'cat.2418.jpg', 'cat.589.jpg', 'cat.2079.jpg', 'cat.558.jpg', 'cat.139.jpg', 'cat.27.jpg', 'cat.2464.jpg', 'cat.633.jpg', 'cat.194.jpg', 'cat.2005.jpg', 'cat.252.jpg', 'cat.987.jpg', 'cat.283.jpg', 'cat.956.jpg', 'cat.524.jpg', 'cat.145.jpg', 'cat.2312.jpg', 'cat.549.jpg', 'cat.128.jpg', 'cat.2409.jpg', 'cat.2068.jpg', 'cat.598.jpg', 'cat.706.jpg', 'cat.367.jpg', 'cat.2130.jpg', 'cat.863.jpg', 'cat.411.jpg', 'cat.2227.jpg', 'cat.535.jpg', 'cat.947.jpg', 'cat.292.jpg', 'cat.2303.jpg', 'cat.154.jpg', 'cat.185.jpg', 'cat.622.jpg', 'cat.2475.jpg', 'cat.996.jpg', 'cat.243.jpg', 'cat.2014.jpg', 'cat.36.jpg', 'cat.9.jpg', 'cat.295.jpg', 'cat.940.jpg', 'cat.532.jpg', 'cat.2304.jpg', 'cat.153.jpg', 'cat.625.jpg', 'cat.182.jpg', 'cat.2472.jpg', 'cat.244.jpg', 'cat.991.jpg', 'cat.2013.jpg', 'cat.31.jpg', 'cat.818.jpg', 'cat.688.jpg', 'cat.2378.jpg', 'cat.659.jpg', 'cat.238.jpg', 'cat.701.jpg', 'cat.360.jpg', 'cat.2137.jpg', 'cat.416.jpg', 'cat.864.jpg', 'cat.2220.jpg', 'cat.773.jpg', 'cat.2283.jpg', 'cat.312.jpg', 'cat.0.jpg', 'cat.2145.jpg', 'cat.2194.jpg', 'cat.464.jpg', 'cat.816.jpg', 'cat.2252.jpg', 'cat.932.jpg', 'cat.540.jpg', 'cat.2376.jpg', 'cat.121.jpg', 'cat.686.jpg', 'cat.657.jpg', 'cat.2400.jpg', 'cat.591.jpg', 'cat.236.jpg', 'cat.2061.jpg', 'cat.43.jpg', 'cat.2139.jpg', 'cat.418.jpg', 'cat.92.jpg', 'cat.547.jpg', 'cat.935.jpg', 'cat.2371.jpg', 'cat.681.jpg', 'cat.126.jpg', 'cat.650.jpg', 'cat.2407.jpg', 'cat.231.jpg', 'cat.596.jpg', 'cat.2066.jpg', 'cat.44.jpg', 'cat.708.jpg', 'cat.369.jpg', 'cat.2229.jpg', 'cat.95.jpg', 'cat.949.jpg', 'cat.998.jpg', 'cat.774.jpg', 'cat.38.jpg', 'cat.2284.jpg', 'cat.315.jpg', 'cat.2142.jpg', 'cat.7.jpg', 'cat.2193.jpg', 'cat.811.jpg', 'cat.463.jpg', 'cat.2255.jpg', 'cat.204.jpg', 'cat.2053.jpg', 'cat.665.jpg', 'cat.2395.jpg', 'cat.2432.jpg', 'cat.2344.jpg', 'cat.113.jpg', 'cat.2082.jpg', 'cat.572.jpg', 'cat.900.jpg', 'cat.858.jpg', 'cat.889.jpg', 'cat.71.jpg', 'cat.278.jpg', 'cat.619.jpg', 'cat.2338.jpg', 'cat.2260.jpg', 'cat.790.jpg', 'cat.824.jpg', 'cat.456.jpg', 'cat.320.jpg', 'cat.487.jpg', 'cat.2177.jpg', 'cat.741.jpg', 'cat.2028.jpg', 'cat.2449.jpg', 'cat.168.jpg', 'cat.2498.jpg', 'cat.509.jpg', 'cat.2267.jpg', 'cat.797.jpg', 'cat.451.jpg', 'cat.823.jpg', 'cat.480.jpg', 'cat.327.jpg', 'cat.2170.jpg', 'cat.746.jpg', 'cat.203.jpg', 'cat.2054.jpg', 'cat.662.jpg', 'cat.2435.jpg', 'cat.2392.jpg', 'cat.2343.jpg', 'cat.114.jpg', 'cat.2085.jpg', 'cat.907.jpg', 'cat.575.jpg', 'cat.76.jpg', 'cat.271.jpg', 'cat.2026.jpg', 'cat.610.jpg', 'cat.2447.jpg', 'cat.2331.jpg', 'cat.2496.jpg', 'cat.166.jpg', 'cat.975.jpg', 'cat.507.jpg', 'cat.799.jpg', 'cat.2269.jpg', 'cat.329.jpg', 'cat.748.jpg', 'cat.909.jpg', 'cat.2215.jpg', 'cat.384.jpg', 'cat.423.jpg', 'cat.851.jpg', 'cat.355.jpg', 'cat.880.jpg', 'cat.2102.jpg', 'cat.734.jpg', 'cat.78.jpg', 'cat.2212.jpg', 'cat.856.jpg', 'cat.424.jpg', 'cat.383.jpg', 'cat.887.jpg', 'cat.352.jpg', 'cat.2105.jpg', 'cat.733.jpg', 'cat.276.jpg', 'cat.2021.jpg', 'cat.617.jpg', 'cat.2440.jpg', 'cat.2491.jpg', 'cat.2336.jpg', 'cat.161.jpg', 'cat.500.jpg', 'cat.972.jpg', 'cat.458.jpg', 'cat.2179.jpg', 'cat.489.jpg', 'cat.150.jpg', 'cat.2307.jpg', 'cat.296.jpg', 'cat.531.jpg', 'cat.943.jpg', 'cat.2010.jpg', 'cat.247.jpg', 'cat.992.jpg', 'cat.2471.jpg', 'cat.626.jpg', 'cat.181.jpg', 'cat.2148.jpg', 'cat.32.jpg', 'cat.2199.jpg', 'cat.469.jpg', 'cat.2134.jpg', 'cat.363.jpg', 'cat.702.jpg', 'cat.2223.jpg', 'cat.867.jpg', 'cat.415.jpg', 'cat.938.jpg', 'cat.2133.jpg', 'cat.364.jpg', 'cat.49.jpg', 'cat.705.jpg', 'cat.2224.jpg', 'cat.98.jpg', 'cat.412.jpg', 'cat.860.jpg', 'cat.157.jpg', 'cat.2300.jpg', 'cat.944.jpg', 'cat.536.jpg', 'cat.291.jpg', 'cat.2017.jpg', 'cat.995.jpg', 'cat.240.jpg', 'cat.2476.jpg', 'cat.186.jpg', 'cat.621.jpg', 'cat.318.jpg', 'cat.779.jpg', 'cat.35.jpg', 'cat.2289.jpg', 'cat.2258.jpg', 'cat.682.jpg', 'cat.125.jpg', 'cat.2372.jpg', 'cat.936.jpg', 'cat.544.jpg', 'cat.2065.jpg', 'cat.232.jpg', 'cat.595.jpg', 'cat.2404.jpg', 'cat.653.jpg', 'cat.47.jpg', 'cat.96.jpg', 'cat.159.jpg', 'cat.538.jpg', 'cat.2019.jpg', 'cat.188.jpg', 'cat.2478.jpg', 'cat.4.jpg', 'cat.2141.jpg', 'cat.316.jpg', 'cat.2287.jpg', 'cat.777.jpg', 'cat.2256.jpg', 'cat.460.jpg', 'cat.812.jpg', 'cat.2190.jpg', 'cat.2309.jpg', 'cat.298.jpg', 'cat.249.jpg', 'cat.628.jpg', 'cat.2146.jpg', 'cat.3.jpg', 'cat.311.jpg', 'cat.2280.jpg', 'cat.770.jpg', 'cat.2251.jpg', 'cat.815.jpg', 'cat.467.jpg', 'cat.2197.jpg', 'cat.122.jpg', 'cat.685.jpg', 'cat.2375.jpg', 'cat.543.jpg', 'cat.931.jpg', 'cat.2062.jpg', 'cat.592.jpg', 'cat.235.jpg', 'cat.2403.jpg', 'cat.654.jpg', 'cat.40.jpg', 'cat.91.jpg', 'cat.869.jpg', 'cat.978.jpg', 'cat.820.jpg', 'cat.452.jpg', 'cat.794.jpg', 'cat.2264.jpg', 'cat.745.jpg', 'cat.2173.jpg', 'cat.483.jpg', 'cat.324.jpg', 'cat.2436.jpg', 'cat.2391.jpg', 'cat.661.jpg', 'cat.2057.jpg', 'cat.200.jpg', 'cat.576.jpg', 'cat.904.jpg', 'cat.2086.jpg', 'cat.117.jpg', 'cat.2340.jpg', 'cat.389.jpg', 'cat.2218.jpg', 'cat.739.jpg', 'cat.75.jpg', 'cat.358.jpg', 'cat.2396.jpg', 'cat.2431.jpg', 'cat.666.jpg', 'cat.2050.jpg', 'cat.207.jpg', 'cat.903.jpg', 'cat.571.jpg', 'cat.2081.jpg', 'cat.110.jpg', 'cat.2347.jpg', 'cat.429.jpg', 'cat.72.jpg', 'cat.2108.jpg', 'cat.455.jpg', 'cat.827.jpg', 'cat.793.jpg', 'cat.2263.jpg', 'cat.742.jpg', 'cat.2174.jpg', 'cat.323.jpg', 'cat.484.jpg', 'cat.668.jpg', 'cat.2398.jpg', 'cat.209.jpg', 'cat.2349.jpg', 'cat.427.jpg', 'cat.855.jpg', 'cat.380.jpg', 'cat.2211.jpg', 'cat.730.jpg', 'cat.2106.jpg', 'cat.884.jpg', 'cat.351.jpg', 'cat.2443.jpg', 'cat.614.jpg', 'cat.2022.jpg', 'cat.275.jpg', 'cat.971.jpg', 'cat.503.jpg', 'cat.162.jpg', 'cat.2492.jpg', 'cat.2335.jpg', 'cat.829.jpg', 'cat.2444.jpg', 'cat.613.jpg', 'cat.2025.jpg', 'cat.272.jpg', 'cat.504.jpg', 'cat.976.jpg', 'cat.165.jpg', 'cat.2332.jpg', 'cat.2495.jpg', 'cat.2438.jpg', 'cat.2059.jpg', 'cat.2088.jpg', 'cat.578.jpg', 'cat.119.jpg', 'cat.387.jpg', 'cat.852.jpg', 'cat.420.jpg', 'cat.2216.jpg', 'cat.737.jpg', 'cat.2101.jpg', 'cat.356.jpg', 'cat.883.jpg', 'cat.16.jpg', 'cat.967.jpg', 'cat.515.jpg', 'cat.2484.jpg', 'cat.2323.jpg', 'cat.174.jpg', 'cat.602.jpg', 'cat.2455.jpg', 'cat.263.jpg', 'cat.2034.jpg', 'cat.726.jpg', 'cat.892.jpg', 'cat.347.jpg', 'cat.2110.jpg', 'cat.431.jpg', 'cat.843.jpg', 'cat.396.jpg', 'cat.2207.jpg', 'cat.569.jpg', 'cat.2099.jpg', 'cat.108.jpg', 'cat.2429.jpg', 'cat.2048.jpg', 'cat.721.jpg', 'cat.340.jpg', 'cat.895.jpg', 'cat.2117.jpg', 'cat.391.jpg', 'cat.844.jpg', 'cat.436.jpg', 'cat.2200.jpg', 'cat.2358.jpg', 'cat.2389.jpg', 'cat.679.jpg', 'cat.218.jpg', 'cat.11.jpg', 'cat.838.jpg', 'cat.512.jpg', 'cat.960.jpg', 'cat.2324.jpg', 'cat.2483.jpg', 'cat.173.jpg', 'cat.605.jpg', 'cat.2452.jpg', 'cat.264.jpg', 'cat.2033.jpg', 'cat.63.jpg', 'cat.2119.jpg', 'cat.438.jpg', 'cat.2090.jpg', 'cat.560.jpg', 'cat.912.jpg', 'cat.2356.jpg', 'cat.101.jpg', 'cat.677.jpg', 'cat.2420.jpg', 'cat.2387.jpg', 'cat.216.jpg', 'cat.2041.jpg', 'cat.753.jpg', 'cat.495.jpg', 'cat.332.jpg', 'cat.2165.jpg', 'cat.836.jpg', 'cat.444.jpg', 'cat.2272.jpg', 'cat.782.jpg', 'cat.754.jpg', 'cat.18.jpg', 'cat.335.jpg', 'cat.492.jpg', 'cat.2162.jpg', 'cat.443.jpg', 'cat.831.jpg', 'cat.2275.jpg', 'cat.785.jpg', 'cat.969.jpg', 'cat.64.jpg', 'cat.728.jpg', 'cat.349.jpg', 'cat.398.jpg', 'cat.2209.jpg', 'cat.2097.jpg', 'cat.915.jpg', 'cat.567.jpg', 'cat.2351.jpg', 'cat.106.jpg', 'cat.670.jpg', 'cat.2380.jpg', 'cat.2427.jpg', 'cat.211.jpg', 'cat.2046.jpg', 'cat.2240.jpg', 'cat.2186.jpg', 'cat.476.jpg', 'cat.804.jpg', 'cat.300.jpg', 'cat.2157.jpg', 'cat.761.jpg', 'cat.2291.jpg', 'cat.258.jpg', 'cat.639.jpg', 'cat.2318.jpg', 'cat.289.jpg', 'cat.80.jpg', 'cat.878.jpg', 'cat.51.jpg', 'cat.224.jpg', 'cat.583.jpg', 'cat.2073.jpg', 'cat.645.jpg', 'cat.2412.jpg', 'cat.2364.jpg', 'cat.694.jpg', 'cat.133.jpg', 'cat.920.jpg', 'cat.552.jpg', 'cat.87.jpg', 'cat.56.jpg', 'cat.584.jpg', 'cat.223.jpg', 'cat.2074.jpg', 'cat.642.jpg', 'cat.2415.jpg', 'cat.2363.jpg', 'cat.134.jpg', 'cat.693.jpg', 'cat.555.jpg', 'cat.927.jpg', 'cat.2247.jpg', 'cat.2181.jpg', 'cat.803.jpg', 'cat.471.jpg', 'cat.307.jpg', 'cat.2150.jpg', 'cat.766.jpg', 'cat.2296.jpg', 'cat.2008.jpg', 'cat.2469.jpg', 'cat.199.jpg', 'cat.148.jpg', 'cat.529.jpg', 'cat.2235.jpg', 'cat.89.jpg', 'cat.871.jpg', 'cat.403.jpg', 'cat.375.jpg', 'cat.2122.jpg', 'cat.714.jpg', 'cat.58.jpg', 'cat.929.jpg', 'cat.2249.jpg', 'cat.309.jpg', 'cat.24.jpg', 'cat.2298.jpg', 'cat.768.jpg', 'cat.251.jpg', 'cat.984.jpg', 'cat.2006.jpg', 'cat.630.jpg', 'cat.197.jpg', 'cat.2467.jpg', 'cat.2311.jpg', 'cat.146.jpg', 'cat.280.jpg', 'cat.527.jpg', 'cat.955.jpg', 'cat.478.jpg', 'cat.2188.jpg', 'cat.2159.jpg', 'cat.23.jpg', 'cat.983.jpg', 'cat.256.jpg', 'cat.2001.jpg', 'cat.190.jpg', 'cat.637.jpg', 'cat.2460.jpg', 'cat.2316.jpg', 'cat.141.jpg', 'cat.952.jpg', 'cat.520.jpg', 'cat.287.jpg', 'cat.2232.jpg', 'cat.404.jpg', 'cat.876.jpg', 'cat.372.jpg', 'cat.2125.jpg', 'cat.713.jpg', 'cat.612.jpg', 'cat.2445.jpg', 'cat.273.jpg', 'cat.2024.jpg', 'cat.505.jpg', 'cat.977.jpg', 'cat.2494.jpg', 'cat.2333.jpg', 'cat.164.jpg', 'cat.2439.jpg', 'cat.2058.jpg', 'cat.579.jpg', 'cat.2089.jpg', 'cat.118.jpg', 'cat.853.jpg', 'cat.421.jpg', 'cat.386.jpg', 'cat.2217.jpg', 'cat.736.jpg', 'cat.882.jpg', 'cat.357.jpg', 'cat.2100.jpg', 'cat.2399.jpg', 'cat.669.jpg', 'cat.208.jpg', 'cat.2348.jpg', 'cat.381.jpg', 'cat.426.jpg', 'cat.854.jpg', 'cat.2210.jpg', 'cat.731.jpg', 'cat.350.jpg', 'cat.885.jpg', 'cat.2107.jpg', 'cat.615.jpg', 'cat.2442.jpg', 'cat.274.jpg', 'cat.2023.jpg', 'cat.970.jpg', 'cat.502.jpg', 'cat.2334.jpg', 'cat.2493.jpg', 'cat.163.jpg', 'cat.828.jpg', 'cat.667.jpg', 'cat.2430.jpg', 'cat.2397.jpg', 'cat.206.jpg', 'cat.2051.jpg', 'cat.2080.jpg', 'cat.902.jpg', 'cat.570.jpg', 'cat.2346.jpg', 'cat.111.jpg', 'cat.428.jpg', 'cat.73.jpg', 'cat.2109.jpg', 'cat.454.jpg', 'cat.826.jpg', 'cat.2262.jpg', 'cat.792.jpg', 'cat.743.jpg', 'cat.485.jpg', 'cat.322.jpg', 'cat.2175.jpg', 'cat.979.jpg', 'cat.821.jpg', 'cat.453.jpg', 'cat.2265.jpg', 'cat.795.jpg', 'cat.744.jpg', 'cat.325.jpg', 'cat.482.jpg', 'cat.2172.jpg', 'cat.660.jpg', 'cat.2390.jpg', 'cat.2437.jpg', 'cat.201.jpg', 'cat.2056.jpg', 'cat.2087.jpg', 'cat.577.jpg', 'cat.905.jpg', 'cat.2341.jpg', 'cat.116.jpg', 'cat.388.jpg', 'cat.2219.jpg', 'cat.74.jpg', 'cat.738.jpg', 'cat.359.jpg', 'cat.2308.jpg', 'cat.299.jpg', 'cat.248.jpg', 'cat.629.jpg', 'cat.310.jpg', 'cat.2147.jpg', 'cat.2.jpg', 'cat.771.jpg', 'cat.2281.jpg', 'cat.2250.jpg', 'cat.2196.jpg', 'cat.814.jpg', 'cat.466.jpg', 'cat.2374.jpg', 'cat.684.jpg', 'cat.123.jpg', 'cat.542.jpg', 'cat.930.jpg', 'cat.234.jpg', 'cat.593.jpg', 'cat.2063.jpg', 'cat.655.jpg', 'cat.2402.jpg', 'cat.41.jpg', 'cat.90.jpg', 'cat.868.jpg', 'cat.2373.jpg', 'cat.124.jpg', 'cat.683.jpg', 'cat.937.jpg', 'cat.545.jpg', 'cat.594.jpg', 'cat.233.jpg', 'cat.2064.jpg', 'cat.652.jpg', 'cat.2405.jpg', 'cat.46.jpg', 'cat.97.jpg', 'cat.158.jpg', 'cat.539.jpg', 'cat.2018.jpg', 'cat.2479.jpg', 'cat.189.jpg', 'cat.317.jpg', 'cat.5.jpg', 'cat.2140.jpg', 'cat.776.jpg', 'cat.2286.jpg', 'cat.2257.jpg', 'cat.2191.jpg', 'cat.461.jpg', 'cat.813.jpg', 'cat.939.jpg', 'cat.365.jpg', 'cat.2132.jpg', 'cat.704.jpg', 'cat.48.jpg', 'cat.2225.jpg', 'cat.99.jpg', 'cat.413.jpg', 'cat.861.jpg', 'cat.2301.jpg', 'cat.156.jpg', 'cat.290.jpg', 'cat.945.jpg', 'cat.537.jpg', 'cat.241.jpg', 'cat.994.jpg', 'cat.2016.jpg', 'cat.620.jpg', 'cat.187.jpg', 'cat.2477.jpg', 'cat.319.jpg', 'cat.34.jpg', 'cat.2288.jpg', 'cat.778.jpg', 'cat.2259.jpg', 'cat.2306.jpg', 'cat.151.jpg', 'cat.530.jpg', 'cat.942.jpg', 'cat.297.jpg', 'cat.993.jpg', 'cat.246.jpg', 'cat.2011.jpg', 'cat.180.jpg', 'cat.627.jpg', 'cat.2470.jpg', 'cat.2149.jpg', 'cat.33.jpg', 'cat.468.jpg', 'cat.2198.jpg', 'cat.362.jpg', 'cat.2135.jpg', 'cat.703.jpg', 'cat.2222.jpg', 'cat.866.jpg', 'cat.414.jpg', 'cat.2189.jpg', 'cat.479.jpg', 'cat.2158.jpg', 'cat.22.jpg', 'cat.2000.jpg', 'cat.257.jpg', 'cat.982.jpg', 'cat.2461.jpg', 'cat.636.jpg', 'cat.191.jpg', 'cat.140.jpg', 'cat.2317.jpg', 'cat.286.jpg', 'cat.953.jpg', 'cat.521.jpg', 'cat.2233.jpg', 'cat.405.jpg', 'cat.877.jpg', 'cat.2124.jpg', 'cat.373.jpg', 'cat.712.jpg', 'cat.2234.jpg', 'cat.88.jpg', 'cat.870.jpg', 'cat.402.jpg', 'cat.2123.jpg', 'cat.374.jpg', 'cat.59.jpg', 'cat.715.jpg', 'cat.928.jpg', 'cat.2248.jpg', 'cat.308.jpg', 'cat.769.jpg', 'cat.25.jpg', 'cat.2299.jpg', 'cat.2007.jpg', 'cat.985.jpg', 'cat.250.jpg', 'cat.2466.jpg', 'cat.196.jpg', 'cat.631.jpg', 'cat.147.jpg', 'cat.2310.jpg', 'cat.526.jpg', 'cat.954.jpg', 'cat.281.jpg', 'cat.86.jpg', 'cat.57.jpg', 'cat.2075.jpg', 'cat.222.jpg', 'cat.585.jpg', 'cat.2414.jpg', 'cat.643.jpg', 'cat.692.jpg', 'cat.135.jpg', 'cat.2362.jpg', 'cat.554.jpg', 'cat.926.jpg', 'cat.2246.jpg', 'cat.802.jpg', 'cat.470.jpg', 'cat.2180.jpg', 'cat.2151.jpg', 'cat.306.jpg', 'cat.2297.jpg', 'cat.767.jpg', 'cat.2009.jpg', 'cat.198.jpg', 'cat.2468.jpg', 'cat.149.jpg', 'cat.528.jpg', 'cat.2241.jpg', 'cat.477.jpg', 'cat.805.jpg', 'cat.2187.jpg', 'cat.2156.jpg', 'cat.301.jpg', 'cat.2290.jpg', 'cat.760.jpg', 'cat.259.jpg', 'cat.638.jpg', 'cat.2319.jpg', 'cat.288.jpg', 'cat.81.jpg', 'cat.879.jpg', 'cat.50.jpg', 'cat.2072.jpg', 'cat.582.jpg', 'cat.225.jpg', 'cat.2413.jpg', 'cat.644.jpg', 'cat.132.jpg', 'cat.695.jpg', 'cat.2365.jpg', 'cat.921.jpg', 'cat.553.jpg', 'cat.19.jpg', 'cat.755.jpg', 'cat.2163.jpg', 'cat.493.jpg', 'cat.334.jpg', 'cat.442.jpg', 'cat.830.jpg', 'cat.784.jpg', 'cat.2274.jpg', 'cat.968.jpg', 'cat.729.jpg', 'cat.65.jpg', 'cat.348.jpg', 'cat.399.jpg', 'cat.2208.jpg', 'cat.914.jpg', 'cat.566.jpg', 'cat.2096.jpg', 'cat.107.jpg', 'cat.2350.jpg', 'cat.2426.jpg', 'cat.2381.jpg', 'cat.671.jpg', 'cat.2047.jpg', 'cat.210.jpg', 'cat.62.jpg', 'cat.2118.jpg', 'cat.439.jpg', 'cat.561.jpg', 'cat.913.jpg', 'cat.2091.jpg', 'cat.100.jpg', 'cat.2357.jpg', 'cat.2386.jpg', 'cat.2421.jpg', 'cat.676.jpg', 'cat.2040.jpg', 'cat.217.jpg', 'cat.752.jpg', 'cat.2164.jpg', 'cat.333.jpg', 'cat.494.jpg', 'cat.837.jpg', 'cat.445.jpg', 'cat.783.jpg', 'cat.2273.jpg', 'cat.720.jpg', 'cat.2116.jpg', 'cat.894.jpg', 'cat.341.jpg', 'cat.845.jpg', 'cat.437.jpg', 'cat.390.jpg', 'cat.2201.jpg', 'cat.2359.jpg', 'cat.678.jpg', 'cat.2388.jpg', 'cat.219.jpg', 'cat.10.jpg', 'cat.839.jpg', 'cat.513.jpg', 'cat.961.jpg', 'cat.172.jpg', 'cat.2482.jpg', 'cat.2325.jpg', 'cat.2453.jpg', 'cat.604.jpg', 'cat.2032.jpg', 'cat.265.jpg', 'cat.17.jpg', 'cat.966.jpg', 'cat.514.jpg', 'cat.175.jpg', 'cat.2322.jpg', 'cat.2485.jpg', 'cat.2454.jpg', 'cat.603.jpg', 'cat.2035.jpg', 'cat.262.jpg', 'cat.727.jpg', 'cat.2111.jpg', 'cat.346.jpg', 'cat.893.jpg', 'cat.397.jpg', 'cat.430.jpg', 'cat.842.jpg', 'cat.2206.jpg', 'cat.2098.jpg', 'cat.568.jpg', 'cat.109.jpg', 'cat.2428.jpg', 'cat.2049.jpg']\n",
      "['dog.2316.jpg', 'dog.812.jpg', 'dog.460.jpg', 'dog.316.jpg', 'dog.2001.jpg', 'dog.777.jpg', 'dog.2460.jpg', 'dog.2159.jpg', 'dog.188.jpg', 'dog.159.jpg', 'dog.2188.jpg', 'dog.538.jpg', 'dog.3.jpg', 'dog.595.jpg', 'dog.2125.jpg', 'dog.232.jpg', 'dog.653.jpg', 'dog.125.jpg', 'dog.2232.jpg', 'dog.682.jpg', 'dog.544.jpg', 'dog.936.jpg', 'dog.4.jpg', 'dog.869.jpg', 'dog.235.jpg', 'dog.592.jpg', 'dog.2122.jpg', 'dog.654.jpg', 'dog.2235.jpg', 'dog.685.jpg', 'dog.122.jpg', 'dog.931.jpg', 'dog.543.jpg', 'dog.2311.jpg', 'dog.467.jpg', 'dog.815.jpg', 'dog.2006.jpg', 'dog.311.jpg', 'dog.79.jpg', 'dog.2467.jpg', 'dog.770.jpg', 'dog.249.jpg', 'dog.628.jpg', 'dog.2298.jpg', 'dog.2249.jpg', 'dog.298.jpg', 'dog.2363.jpg', 'dog.415.jpg', 'dog.867.jpg', 'dog.363.jpg', 'dog.2074.jpg', 'dog.702.jpg', 'dog.2415.jpg', 'dog.469.jpg', 'dog.2008.jpg', 'dog.2469.jpg', 'dog.77.jpg', 'dog.2150.jpg', 'dog.992.jpg', 'dog.247.jpg', 'dog.181.jpg', 'dog.2296.jpg', 'dog.626.jpg', 'dog.150.jpg', 'dog.2247.jpg', 'dog.943.jpg', 'dog.531.jpg', 'dog.2181.jpg', 'dog.296.jpg', 'dog.2318.jpg', 'dog.318.jpg', 'dog.70.jpg', 'dog.779.jpg', 'dog.240.jpg', 'dog.2157.jpg', 'dog.995.jpg', 'dog.2291.jpg', 'dog.621.jpg', 'dog.186.jpg', 'dog.2240.jpg', 'dog.157.jpg', 'dog.291.jpg', 'dog.536.jpg', 'dog.944.jpg', 'dog.2186.jpg', 'dog.2364.jpg', 'dog.860.jpg', 'dog.412.jpg', 'dog.2073.jpg', 'dog.364.jpg', 'dog.2412.jpg', 'dog.705.jpg', 'dog.938.jpg', 'dog.45.jpg', 'dog.829.jpg', 'dog.94.jpg', 'dog.503.jpg', 'dog.971.jpg', 'dog.162.jpg', 'dog.2275.jpg', 'dog.614.jpg', 'dog.2162.jpg', 'dog.275.jpg', 'dog.39.jpg', 'dog.730.jpg', 'dog.2380.jpg', 'dog.2427.jpg', 'dog.351.jpg', 'dog.884.jpg', 'dog.2046.jpg', 'dog.380.jpg', 'dog.2097.jpg', 'dog.855.jpg', 'dog.427.jpg', 'dog.2351.jpg', 'dog.2209.jpg', 'dog.668.jpg', 'dog.209.jpg', 'dog.2420.jpg', 'dog.737.jpg', 'dog.2387.jpg', 'dog.883.jpg', 'dog.2041.jpg', 'dog.356.jpg', 'dog.2090.jpg', 'dog.420.jpg', 'dog.852.jpg', 'dog.387.jpg', 'dog.2356.jpg', 'dog.578.jpg', 'dog.119.jpg', 'dog.2119.jpg', 'dog.42.jpg', 'dog.93.jpg', 'dog.976.jpg', 'dog.504.jpg', 'dog.2272.jpg', 'dog.165.jpg', 'dog.613.jpg', 'dog.272.jpg', 'dog.2165.jpg', 'dog.30.jpg', 'dog.2389.jpg', 'dog.739.jpg', 'dog.358.jpg', 'dog.389.jpg', 'dog.2358.jpg', 'dog.904.jpg', 'dog.576.jpg', 'dog.117.jpg', 'dog.2200.jpg', 'dog.661.jpg', 'dog.2117.jpg', 'dog.200.jpg', 'dog.745.jpg', 'dog.2452.jpg', 'dog.324.jpg', 'dog.2033.jpg', 'dog.483.jpg', 'dog.452.jpg', 'dog.820.jpg', 'dog.794.jpg', 'dog.2324.jpg', 'dog.2483.jpg', 'dog.978.jpg', 'dog.2455.jpg', 'dog.742.jpg', 'dog.2034.jpg', 'dog.484.jpg', 'dog.323.jpg', 'dog.827.jpg', 'dog.455.jpg', 'dog.2484.jpg', 'dog.793.jpg', 'dog.2323.jpg', 'dog.2429.jpg', 'dog.37.jpg', 'dog.2048.jpg', 'dog.429.jpg', 'dog.2099.jpg', 'dog.571.jpg', 'dog.903.jpg', 'dog.2207.jpg', 'dog.110.jpg', 'dog.666.jpg', 'dog.207.jpg', 'dog.2110.jpg', 'dog.444.jpg', 'dog.836.jpg', 'dog.782.jpg', 'dog.2332.jpg', 'dog.2495.jpg', 'dog.753.jpg', 'dog.2444.jpg', 'dog.332.jpg', 'dog.2025.jpg', 'dog.495.jpg', 'dog.677.jpg', 'dog.2101.jpg', 'dog.216.jpg', 'dog.912.jpg', 'dog.560.jpg', 'dog.101.jpg', 'dog.2216.jpg', 'dog.438.jpg', 'dog.2088.jpg', 'dog.2438.jpg', 'dog.26.jpg', 'dog.2059.jpg', 'dog.670.jpg', 'dog.211.jpg', 'dog.2106.jpg', 'dog.567.jpg', 'dog.915.jpg', 'dog.2211.jpg', 'dog.106.jpg', 'dog.398.jpg', 'dog.2349.jpg', 'dog.21.jpg', 'dog.2398.jpg', 'dog.728.jpg', 'dog.349.jpg', 'dog.969.jpg', 'dog.831.jpg', 'dog.443.jpg', 'dog.2492.jpg', 'dog.785.jpg', 'dog.2335.jpg', 'dog.2443.jpg', 'dog.754.jpg', 'dog.2022.jpg', 'dog.492.jpg', 'dog.335.jpg', 'dog.2108.jpg', 'dog.569.jpg', 'dog.108.jpg', 'dog.396.jpg', 'dog.2081.jpg', 'dog.843.jpg', 'dog.431.jpg', 'dog.2347.jpg', 'dog.726.jpg', 'dog.2396.jpg', 'dog.2431.jpg', 'dog.347.jpg', 'dog.892.jpg', 'dog.2050.jpg', 'dog.602.jpg', 'dog.2174.jpg', 'dog.263.jpg', 'dog.515.jpg', 'dog.967.jpg', 'dog.174.jpg', 'dog.2263.jpg', 'dog.82.jpg', 'dog.53.jpg', 'dog.605.jpg', 'dog.264.jpg', 'dog.2173.jpg', 'dog.960.jpg', 'dog.512.jpg', 'dog.2264.jpg', 'dog.173.jpg', 'dog.838.jpg', 'dog.85.jpg', 'dog.54.jpg', 'dog.679.jpg', 'dog.218.jpg', 'dog.2218.jpg', 'dog.2086.jpg', 'dog.436.jpg', 'dog.844.jpg', 'dog.391.jpg', 'dog.2340.jpg', 'dog.28.jpg', 'dog.2436.jpg', 'dog.721.jpg', 'dog.2391.jpg', 'dog.895.jpg', 'dog.2057.jpg', 'dog.340.jpg', 'dog.146.jpg', 'dog.2251.jpg', 'dog.955.jpg', 'dog.527.jpg', 'dog.2197.jpg', 'dog.280.jpg', 'dog.2146.jpg', 'dog.984.jpg', 'dog.251.jpg', 'dog.197.jpg', 'dog.2280.jpg', 'dog.630.jpg', 'dog.309.jpg', 'dog.61.jpg', 'dog.768.jpg', 'dog.2309.jpg', 'dog.929.jpg', 'dog.375.jpg', 'dog.2062.jpg', 'dog.714.jpg', 'dog.2403.jpg', 'dog.2375.jpg', 'dog.403.jpg', 'dog.871.jpg', 'dog.2065.jpg', 'dog.372.jpg', 'dog.2404.jpg', 'dog.713.jpg', 'dog.2372.jpg', 'dog.876.jpg', 'dog.404.jpg', 'dog.2256.jpg', 'dog.141.jpg', 'dog.287.jpg', 'dog.520.jpg', 'dog.952.jpg', 'dog.2190.jpg', 'dog.256.jpg', 'dog.2141.jpg', 'dog.983.jpg', 'dog.2287.jpg', 'dog.637.jpg', 'dog.190.jpg', 'dog.2019.jpg', 'dog.2478.jpg', 'dog.66.jpg', 'dog.478.jpg', 'dog.133.jpg', 'dog.2224.jpg', 'dog.694.jpg', 'dog.552.jpg', 'dog.920.jpg', 'dog.583.jpg', 'dog.2133.jpg', 'dog.224.jpg', 'dog.645.jpg', 'dog.14.jpg', 'dog.878.jpg', 'dog.2258.jpg', 'dog.289.jpg', 'dog.258.jpg', 'dog.639.jpg', 'dog.2289.jpg', 'dog.300.jpg', 'dog.2017.jpg', 'dog.68.jpg', 'dog.761.jpg', 'dog.2476.jpg', 'dog.2300.jpg', 'dog.804.jpg', 'dog.476.jpg', 'dog.148.jpg', 'dog.2199.jpg', 'dog.529.jpg', 'dog.2148.jpg', 'dog.199.jpg', 'dog.2010.jpg', 'dog.307.jpg', 'dog.2471.jpg', 'dog.766.jpg', 'dog.2307.jpg', 'dog.471.jpg', 'dog.803.jpg', 'dog.2223.jpg', 'dog.693.jpg', 'dog.134.jpg', 'dog.927.jpg', 'dog.555.jpg', 'dog.223.jpg', 'dog.584.jpg', 'dog.2134.jpg', 'dog.642.jpg', 'dog.13.jpg', 'dog.743.jpg', 'dog.2454.jpg', 'dog.322.jpg', 'dog.485.jpg', 'dog.2035.jpg', 'dog.826.jpg', 'dog.454.jpg', 'dog.2322.jpg', 'dog.792.jpg', 'dog.2485.jpg', 'dog.2428.jpg', 'dog.36.jpg', 'dog.2049.jpg', 'dog.2098.jpg', 'dog.428.jpg', 'dog.570.jpg', 'dog.902.jpg', 'dog.111.jpg', 'dog.2206.jpg', 'dog.667.jpg', 'dog.2111.jpg', 'dog.206.jpg', 'dog.31.jpg', 'dog.738.jpg', 'dog.2388.jpg', 'dog.359.jpg', 'dog.388.jpg', 'dog.2359.jpg', 'dog.905.jpg', 'dog.577.jpg', 'dog.2201.jpg', 'dog.116.jpg', 'dog.660.jpg', 'dog.201.jpg', 'dog.2116.jpg', 'dog.2453.jpg', 'dog.744.jpg', 'dog.482.jpg', 'dog.2032.jpg', 'dog.325.jpg', 'dog.453.jpg', 'dog.821.jpg', 'dog.2482.jpg', 'dog.2325.jpg', 'dog.795.jpg', 'dog.979.jpg', 'dog.2386.jpg', 'dog.736.jpg', 'dog.2421.jpg', 'dog.357.jpg', 'dog.2040.jpg', 'dog.882.jpg', 'dog.386.jpg', 'dog.421.jpg', 'dog.853.jpg', 'dog.2091.jpg', 'dog.2357.jpg', 'dog.579.jpg', 'dog.118.jpg', 'dog.2118.jpg', 'dog.43.jpg', 'dog.92.jpg', 'dog.977.jpg', 'dog.505.jpg', 'dog.164.jpg', 'dog.2273.jpg', 'dog.612.jpg', 'dog.2164.jpg', 'dog.273.jpg', 'dog.44.jpg', 'dog.828.jpg', 'dog.95.jpg', 'dog.502.jpg', 'dog.970.jpg', 'dog.2274.jpg', 'dog.163.jpg', 'dog.615.jpg', 'dog.274.jpg', 'dog.2163.jpg', 'dog.38.jpg', 'dog.2426.jpg', 'dog.2381.jpg', 'dog.731.jpg', 'dog.2047.jpg', 'dog.885.jpg', 'dog.350.jpg', 'dog.854.jpg', 'dog.426.jpg', 'dog.2096.jpg', 'dog.381.jpg', 'dog.2350.jpg', 'dog.2208.jpg', 'dog.669.jpg', 'dog.208.jpg', 'dog.2319.jpg', 'dog.319.jpg', 'dog.71.jpg', 'dog.778.jpg', 'dog.994.jpg', 'dog.2156.jpg', 'dog.241.jpg', 'dog.187.jpg', 'dog.620.jpg', 'dog.2290.jpg', 'dog.156.jpg', 'dog.2241.jpg', 'dog.2187.jpg', 'dog.537.jpg', 'dog.945.jpg', 'dog.290.jpg', 'dog.2365.jpg', 'dog.861.jpg', 'dog.413.jpg', 'dog.365.jpg', 'dog.2072.jpg', 'dog.704.jpg', 'dog.2413.jpg', 'dog.939.jpg', 'dog.2362.jpg', 'dog.414.jpg', 'dog.866.jpg', 'dog.2075.jpg', 'dog.362.jpg', 'dog.2414.jpg', 'dog.703.jpg', 'dog.468.jpg', 'dog.2009.jpg', 'dog.2468.jpg', 'dog.76.jpg', 'dog.246.jpg', 'dog.993.jpg', 'dog.2151.jpg', 'dog.627.jpg', 'dog.2297.jpg', 'dog.180.jpg', 'dog.2246.jpg', 'dog.151.jpg', 'dog.297.jpg', 'dog.2180.jpg', 'dog.942.jpg', 'dog.530.jpg', 'dog.868.jpg', 'dog.5.jpg', 'dog.2123.jpg', 'dog.593.jpg', 'dog.234.jpg', 'dog.655.jpg', 'dog.123.jpg', 'dog.684.jpg', 'dog.2234.jpg', 'dog.930.jpg', 'dog.542.jpg', 'dog.2310.jpg', 'dog.466.jpg', 'dog.814.jpg', 'dog.310.jpg', 'dog.2007.jpg', 'dog.78.jpg', 'dog.771.jpg', 'dog.2466.jpg', 'dog.248.jpg', 'dog.2299.jpg', 'dog.629.jpg', 'dog.2248.jpg', 'dog.299.jpg', 'dog.2317.jpg', 'dog.813.jpg', 'dog.461.jpg', 'dog.2000.jpg', 'dog.317.jpg', 'dog.2461.jpg', 'dog.776.jpg', 'dog.2158.jpg', 'dog.189.jpg', 'dog.158.jpg', 'dog.539.jpg', 'dog.2189.jpg', 'dog.2.jpg', 'dog.233.jpg', 'dog.2124.jpg', 'dog.594.jpg', 'dog.652.jpg', 'dog.683.jpg', 'dog.2233.jpg', 'dog.124.jpg', 'dog.545.jpg', 'dog.937.jpg', 'dog.149.jpg', 'dog.528.jpg', 'dog.2198.jpg', 'dog.2149.jpg', 'dog.198.jpg', 'dog.306.jpg', 'dog.2011.jpg', 'dog.767.jpg', 'dog.2470.jpg', 'dog.2306.jpg', 'dog.470.jpg', 'dog.802.jpg', 'dog.135.jpg', 'dog.692.jpg', 'dog.2222.jpg', 'dog.926.jpg', 'dog.554.jpg', 'dog.2135.jpg', 'dog.585.jpg', 'dog.222.jpg', 'dog.643.jpg', 'dog.12.jpg', 'dog.695.jpg', 'dog.2225.jpg', 'dog.132.jpg', 'dog.553.jpg', 'dog.921.jpg', 'dog.225.jpg', 'dog.2132.jpg', 'dog.582.jpg', 'dog.644.jpg', 'dog.15.jpg', 'dog.879.jpg', 'dog.2259.jpg', 'dog.288.jpg', 'dog.259.jpg', 'dog.2288.jpg', 'dog.638.jpg', 'dog.2016.jpg', 'dog.301.jpg', 'dog.69.jpg', 'dog.2477.jpg', 'dog.760.jpg', 'dog.2301.jpg', 'dog.805.jpg', 'dog.477.jpg', 'dog.373.jpg', 'dog.2064.jpg', 'dog.712.jpg', 'dog.2405.jpg', 'dog.2373.jpg', 'dog.877.jpg', 'dog.405.jpg', 'dog.140.jpg', 'dog.2257.jpg', 'dog.2191.jpg', 'dog.521.jpg', 'dog.953.jpg', 'dog.286.jpg', 'dog.982.jpg', 'dog.2140.jpg', 'dog.257.jpg', 'dog.191.jpg', 'dog.636.jpg', 'dog.2286.jpg', 'dog.2018.jpg', 'dog.2479.jpg', 'dog.67.jpg', 'dog.479.jpg', 'dog.2250.jpg', 'dog.147.jpg', 'dog.281.jpg', 'dog.2196.jpg', 'dog.954.jpg', 'dog.526.jpg', 'dog.250.jpg', 'dog.985.jpg', 'dog.2147.jpg', 'dog.631.jpg', 'dog.2281.jpg', 'dog.196.jpg', 'dog.308.jpg', 'dog.60.jpg', 'dog.769.jpg', 'dog.2308.jpg', 'dog.928.jpg', 'dog.2063.jpg', 'dog.374.jpg', 'dog.2402.jpg', 'dog.715.jpg', 'dog.2374.jpg', 'dog.402.jpg', 'dog.870.jpg', 'dog.604.jpg', 'dog.2172.jpg', 'dog.265.jpg', 'dog.961.jpg', 'dog.513.jpg', 'dog.172.jpg', 'dog.2265.jpg', 'dog.839.jpg', 'dog.84.jpg', 'dog.55.jpg', 'dog.678.jpg', 'dog.219.jpg', 'dog.2219.jpg', 'dog.390.jpg', 'dog.437.jpg', 'dog.845.jpg', 'dog.2087.jpg', 'dog.2341.jpg', 'dog.29.jpg', 'dog.2390.jpg', 'dog.720.jpg', 'dog.2437.jpg', 'dog.341.jpg', 'dog.2056.jpg', 'dog.894.jpg', 'dog.2109.jpg', 'dog.568.jpg', 'dog.109.jpg', 'dog.842.jpg', 'dog.430.jpg', 'dog.2080.jpg', 'dog.397.jpg', 'dog.2346.jpg', 'dog.2430.jpg', 'dog.2397.jpg', 'dog.727.jpg', 'dog.2051.jpg', 'dog.893.jpg', 'dog.346.jpg', 'dog.603.jpg', 'dog.262.jpg', 'dog.2175.jpg', 'dog.514.jpg', 'dog.966.jpg', 'dog.2262.jpg', 'dog.175.jpg', 'dog.83.jpg', 'dog.52.jpg', 'dog.671.jpg', 'dog.2107.jpg', 'dog.210.jpg', 'dog.566.jpg', 'dog.914.jpg', 'dog.107.jpg', 'dog.2210.jpg', 'dog.399.jpg', 'dog.2348.jpg', 'dog.20.jpg', 'dog.729.jpg', 'dog.2399.jpg', 'dog.348.jpg', 'dog.968.jpg', 'dog.830.jpg', 'dog.442.jpg', 'dog.2334.jpg', 'dog.784.jpg', 'dog.2493.jpg', 'dog.755.jpg', 'dog.2442.jpg', 'dog.334.jpg', 'dog.493.jpg', 'dog.2023.jpg', 'dog.445.jpg', 'dog.837.jpg', 'dog.2494.jpg', 'dog.2333.jpg', 'dog.783.jpg', 'dog.2445.jpg', 'dog.752.jpg', 'dog.494.jpg', 'dog.2024.jpg', 'dog.333.jpg', 'dog.676.jpg', 'dog.217.jpg', 'dog.2100.jpg', 'dog.913.jpg', 'dog.561.jpg', 'dog.2217.jpg', 'dog.100.jpg', 'dog.2089.jpg', 'dog.439.jpg', 'dog.2439.jpg', 'dog.27.jpg', 'dog.2058.jpg', 'dog.922.jpg', 'dog.550.jpg', 'dog.2226.jpg', 'dog.696.jpg', 'dog.131.jpg', 'dog.647.jpg', 'dog.226.jpg', 'dog.581.jpg', 'dog.2131.jpg', 'dog.2408.jpg', 'dog.16.jpg', 'dog.2069.jpg', 'dog.408.jpg', 'dog.2474.jpg', 'dog.763.jpg', 'dog.2015.jpg', 'dog.302.jpg', 'dog.474.jpg', 'dog.806.jpg', 'dog.2302.jpg', 'dog.959.jpg', 'dog.988.jpg', 'dog.764.jpg', 'dog.2473.jpg', 'dog.305.jpg', 'dog.2012.jpg', 'dog.801.jpg', 'dog.473.jpg', 'dog.2305.jpg', 'dog.557.jpg', 'dog.925.jpg', 'dog.136.jpg', 'dog.2221.jpg', 'dog.691.jpg', 'dog.640.jpg', 'dog.586.jpg', 'dog.2136.jpg', 'dog.221.jpg', 'dog.11.jpg', 'dog.718.jpg', 'dog.379.jpg', 'dog.2379.jpg', 'dog.282.jpg', 'dog.525.jpg', 'dog.957.jpg', 'dog.2195.jpg', 'dog.2253.jpg', 'dog.144.jpg', 'dog.2282.jpg', 'dog.632.jpg', 'dog.195.jpg', 'dog.253.jpg', 'dog.2144.jpg', 'dog.986.jpg', 'dog.63.jpg', 'dog.559.jpg', 'dog.138.jpg', 'dog.2138.jpg', 'dog.588.jpg', 'dog.2401.jpg', 'dog.716.jpg', 'dog.2060.jpg', 'dog.377.jpg', 'dog.873.jpg', 'dog.401.jpg', 'dog.2377.jpg', 'dog.698.jpg', 'dog.2228.jpg', 'dog.649.jpg', 'dog.228.jpg', 'dog.18.jpg', 'dog.711.jpg', 'dog.2406.jpg', 'dog.370.jpg', 'dog.2067.jpg', 'dog.406.jpg', 'dog.874.jpg', 'dog.2370.jpg', 'dog.950.jpg', 'dog.522.jpg', 'dog.2192.jpg', 'dog.285.jpg', 'dog.143.jpg', 'dog.2254.jpg', 'dog.192.jpg', 'dog.2285.jpg', 'dog.635.jpg', 'dog.2143.jpg', 'dog.981.jpg', 'dog.254.jpg', 'dog.64.jpg', 'dog.808.jpg', 'dog.919.jpg', 'dog.2345.jpg', 'dog.2083.jpg', 'dog.433.jpg', 'dog.841.jpg', 'dog.394.jpg', 'dog.890.jpg', 'dog.2052.jpg', 'dog.345.jpg', 'dog.2433.jpg', 'dog.724.jpg', 'dog.2394.jpg', 'dog.261.jpg', 'dog.2176.jpg', 'dog.600.jpg', 'dog.2261.jpg', 'dog.176.jpg', 'dog.965.jpg', 'dog.517.jpg', 'dog.2339.jpg', 'dog.789.jpg', 'dog.80.jpg', 'dog.339.jpg', 'dog.51.jpg', 'dog.758.jpg', 'dog.2171.jpg', 'dog.266.jpg', 'dog.607.jpg', 'dog.171.jpg', 'dog.2266.jpg', 'dog.510.jpg', 'dog.962.jpg', 'dog.87.jpg', 'dog.2499.jpg', 'dog.448.jpg', 'dog.499.jpg', 'dog.2029.jpg', 'dog.2448.jpg', 'dog.56.jpg', 'dog.2342.jpg', 'dog.393.jpg', 'dog.2084.jpg', 'dog.846.jpg', 'dog.434.jpg', 'dog.342.jpg', 'dog.897.jpg', 'dog.2055.jpg', 'dog.723.jpg', 'dog.2393.jpg', 'dog.2434.jpg', 'dog.268.jpg', 'dog.609.jpg', 'dog.2268.jpg', 'dog.2497.jpg', 'dog.780.jpg', 'dog.2330.jpg', 'dog.89.jpg', 'dog.834.jpg', 'dog.446.jpg', 'dog.2027.jpg', 'dog.497.jpg', 'dog.330.jpg', 'dog.58.jpg', 'dog.2446.jpg', 'dog.751.jpg', 'dog.214.jpg', 'dog.2103.jpg', 'dog.675.jpg', 'dog.2214.jpg', 'dog.103.jpg', 'dog.562.jpg', 'dog.910.jpg', 'dog.848.jpg', 'dog.899.jpg', 'dog.24.jpg', 'dog.2104.jpg', 'dog.213.jpg', 'dog.672.jpg', 'dog.104.jpg', 'dog.2213.jpg', 'dog.917.jpg', 'dog.565.jpg', 'dog.23.jpg', 'dog.2178.jpg', 'dog.178.jpg', 'dog.519.jpg', 'dog.787.jpg', 'dog.2337.jpg', 'dog.2490.jpg', 'dog.441.jpg', 'dog.833.jpg', 'dog.337.jpg', 'dog.2020.jpg', 'dog.490.jpg', 'dog.756.jpg', 'dog.2441.jpg', 'dog.32.jpg', 'dog.2202.jpg', 'dog.115.jpg', 'dog.574.jpg', 'dog.906.jpg', 'dog.202.jpg', 'dog.2115.jpg', 'dog.663.jpg', 'dog.2031.jpg', 'dog.481.jpg', 'dog.326.jpg', 'dog.2450.jpg', 'dog.747.jpg', 'dog.2481.jpg', 'dog.796.jpg', 'dog.2326.jpg', 'dog.822.jpg', 'dog.450.jpg', 'dog.169.jpg', 'dog.508.jpg', 'dog.2169.jpg', 'dog.321.jpg', 'dog.2036.jpg', 'dog.486.jpg', 'dog.49.jpg', 'dog.740.jpg', 'dog.2457.jpg', 'dog.791.jpg', 'dog.2321.jpg', 'dog.2486.jpg', 'dog.98.jpg', 'dog.457.jpg', 'dog.825.jpg', 'dog.2279.jpg', 'dog.279.jpg', 'dog.618.jpg', 'dog.888.jpg', 'dog.35.jpg', 'dog.859.jpg', 'dog.112.jpg', 'dog.2205.jpg', 'dog.901.jpg', 'dog.573.jpg', 'dog.2112.jpg', 'dog.205.jpg', 'dog.664.jpg', 'dog.488.jpg', 'dog.2038.jpg', 'dog.2459.jpg', 'dog.47.jpg', 'dog.96.jpg', 'dog.2488.jpg', 'dog.459.jpg', 'dog.2277.jpg', 'dog.160.jpg', 'dog.973.jpg', 'dog.501.jpg', 'dog.277.jpg', 'dog.2160.jpg', 'dog.616.jpg', 'dog.886.jpg', 'dog.2044.jpg', 'dog.353.jpg', 'dog.2425.jpg', 'dog.732.jpg', 'dog.2382.jpg', 'dog.2353.jpg', 'dog.2095.jpg', 'dog.425.jpg', 'dog.857.jpg', 'dog.382.jpg', 'dog.354.jpg', 'dog.881.jpg', 'dog.2043.jpg', 'dog.735.jpg', 'dog.2385.jpg', 'dog.2422.jpg', 'dog.2354.jpg', 'dog.385.jpg', 'dog.2092.jpg', 'dog.850.jpg', 'dog.422.jpg', 'dog.908.jpg', 'dog.328.jpg', 'dog.40.jpg', 'dog.749.jpg', 'dog.2328.jpg', 'dog.798.jpg', 'dog.91.jpg', 'dog.167.jpg', 'dog.2270.jpg', 'dog.506.jpg', 'dog.974.jpg', 'dog.2167.jpg', 'dog.270.jpg', 'dog.611.jpg', 'dog.865.jpg', 'dog.417.jpg', 'dog.8.jpg', 'dog.2361.jpg', 'dog.2417.jpg', 'dog.700.jpg', 'dog.2076.jpg', 'dog.361.jpg', 'dog.658.jpg', 'dog.239.jpg', 'dog.689.jpg', 'dog.2239.jpg', 'dog.819.jpg', 'dog.75.jpg', 'dog.2294.jpg', 'dog.624.jpg', 'dog.183.jpg', 'dog.245.jpg', 'dog.2152.jpg', 'dog.990.jpg', 'dog.294.jpg', 'dog.533.jpg', 'dog.941.jpg', 'dog.2183.jpg', 'dog.2245.jpg', 'dog.152.jpg', 'dog.72.jpg', 'dog.184.jpg', 'dog.2293.jpg', 'dog.623.jpg', 'dog.2155.jpg', 'dog.997.jpg', 'dog.242.jpg', 'dog.946.jpg', 'dog.534.jpg', 'dog.2184.jpg', 'dog.293.jpg', 'dog.155.jpg', 'dog.2242.jpg', 'dog.410.jpg', 'dog.862.jpg', 'dog.2366.jpg', 'dog.707.jpg', 'dog.2410.jpg', 'dog.366.jpg', 'dog.2071.jpg', 'dog.2129.jpg', 'dog.599.jpg', 'dog.548.jpg', 'dog.129.jpg', 'dog.462.jpg', 'dog.810.jpg', 'dog.2314.jpg', 'dog.2462.jpg', 'dog.775.jpg', 'dog.2003.jpg', 'dog.314.jpg', 'dog.999.jpg', 'dog.948.jpg', 'dog.1.jpg', 'dog.2368.jpg', 'dog.709.jpg', 'dog.368.jpg', 'dog.651.jpg', 'dog.230.jpg', 'dog.597.jpg', 'dog.2127.jpg', 'dog.934.jpg', 'dog.546.jpg', 'dog.2230.jpg', 'dog.680.jpg', 'dog.127.jpg', 'dog.6.jpg', 'dog.419.jpg', 'dog.2419.jpg', 'dog.2078.jpg', 'dog.656.jpg', 'dog.590.jpg', 'dog.2120.jpg', 'dog.237.jpg', 'dog.541.jpg', 'dog.933.jpg', 'dog.120.jpg', 'dog.2237.jpg', 'dog.687.jpg', 'dog.817.jpg', 'dog.465.jpg', 'dog.2313.jpg', 'dog.772.jpg', 'dog.2465.jpg', 'dog.313.jpg', 'dog.2004.jpg', 'dog.212.jpg', 'dog.2105.jpg', 'dog.673.jpg', 'dog.2212.jpg', 'dog.105.jpg', 'dog.916.jpg', 'dog.564.jpg', 'dog.22.jpg', 'dog.2179.jpg', 'dog.179.jpg', 'dog.518.jpg', 'dog.2491.jpg', 'dog.2336.jpg', 'dog.786.jpg', 'dog.440.jpg', 'dog.832.jpg', 'dog.491.jpg', 'dog.2021.jpg', 'dog.336.jpg', 'dog.2440.jpg', 'dog.757.jpg', 'dog.269.jpg', 'dog.608.jpg', 'dog.2269.jpg', 'dog.2331.jpg', 'dog.781.jpg', 'dog.2496.jpg', 'dog.88.jpg', 'dog.835.jpg', 'dog.447.jpg', 'dog.331.jpg', 'dog.496.jpg', 'dog.2026.jpg', 'dog.59.jpg', 'dog.750.jpg', 'dog.2447.jpg', 'dog.2102.jpg', 'dog.215.jpg', 'dog.674.jpg', 'dog.102.jpg', 'dog.2215.jpg', 'dog.563.jpg', 'dog.911.jpg', 'dog.849.jpg', 'dog.898.jpg', 'dog.25.jpg', 'dog.267.jpg', 'dog.2170.jpg', 'dog.606.jpg', 'dog.2267.jpg', 'dog.170.jpg', 'dog.511.jpg', 'dog.963.jpg', 'dog.86.jpg', 'dog.2498.jpg', 'dog.449.jpg', 'dog.2028.jpg', 'dog.498.jpg', 'dog.2449.jpg', 'dog.57.jpg', 'dog.2343.jpg', 'dog.847.jpg', 'dog.435.jpg', 'dog.2085.jpg', 'dog.392.jpg', 'dog.2054.jpg', 'dog.896.jpg', 'dog.343.jpg', 'dog.2435.jpg', 'dog.2392.jpg', 'dog.722.jpg', 'dog.918.jpg', 'dog.2344.jpg', 'dog.395.jpg', 'dog.432.jpg', 'dog.840.jpg', 'dog.2082.jpg', 'dog.344.jpg', 'dog.2053.jpg', 'dog.891.jpg', 'dog.2395.jpg', 'dog.725.jpg', 'dog.2432.jpg', 'dog.2177.jpg', 'dog.260.jpg', 'dog.601.jpg', 'dog.177.jpg', 'dog.2260.jpg', 'dog.964.jpg', 'dog.516.jpg', 'dog.788.jpg', 'dog.2338.jpg', 'dog.81.jpg', 'dog.338.jpg', 'dog.50.jpg', 'dog.759.jpg', 'dog.2229.jpg', 'dog.699.jpg', 'dog.648.jpg', 'dog.229.jpg', 'dog.19.jpg', 'dog.2407.jpg', 'dog.710.jpg', 'dog.2066.jpg', 'dog.371.jpg', 'dog.407.jpg', 'dog.875.jpg', 'dog.2371.jpg', 'dog.284.jpg', 'dog.2193.jpg', 'dog.951.jpg', 'dog.523.jpg', 'dog.2255.jpg', 'dog.142.jpg', 'dog.634.jpg', 'dog.2284.jpg', 'dog.193.jpg', 'dog.255.jpg', 'dog.980.jpg', 'dog.2142.jpg', 'dog.65.jpg', 'dog.809.jpg', 'dog.2194.jpg', 'dog.524.jpg', 'dog.956.jpg', 'dog.283.jpg', 'dog.145.jpg', 'dog.2252.jpg', 'dog.194.jpg', 'dog.633.jpg', 'dog.2283.jpg', 'dog.987.jpg', 'dog.2145.jpg', 'dog.252.jpg', 'dog.62.jpg', 'dog.558.jpg', 'dog.139.jpg', 'dog.589.jpg', 'dog.2139.jpg', 'dog.717.jpg', 'dog.2400.jpg', 'dog.376.jpg', 'dog.2061.jpg', 'dog.872.jpg', 'dog.400.jpg', 'dog.2376.jpg', 'dog.958.jpg', 'dog.989.jpg', 'dog.2472.jpg', 'dog.765.jpg', 'dog.2013.jpg', 'dog.304.jpg', 'dog.800.jpg', 'dog.472.jpg', 'dog.2304.jpg', 'dog.556.jpg', 'dog.924.jpg', 'dog.690.jpg', 'dog.2220.jpg', 'dog.137.jpg', 'dog.641.jpg', 'dog.220.jpg', 'dog.2137.jpg', 'dog.587.jpg', 'dog.10.jpg', 'dog.719.jpg', 'dog.378.jpg', 'dog.2378.jpg', 'dog.923.jpg', 'dog.551.jpg', 'dog.130.jpg', 'dog.697.jpg', 'dog.2227.jpg', 'dog.646.jpg', 'dog.2130.jpg', 'dog.580.jpg', 'dog.227.jpg', 'dog.2409.jpg', 'dog.17.jpg', 'dog.2068.jpg', 'dog.409.jpg', 'dog.762.jpg', 'dog.2475.jpg', 'dog.303.jpg', 'dog.2014.jpg', 'dog.475.jpg', 'dog.807.jpg', 'dog.2303.jpg', 'dog.418.jpg', 'dog.7.jpg', 'dog.2418.jpg', 'dog.2079.jpg', 'dog.657.jpg', 'dog.236.jpg', 'dog.2121.jpg', 'dog.591.jpg', 'dog.540.jpg', 'dog.932.jpg', 'dog.686.jpg', 'dog.2236.jpg', 'dog.121.jpg', 'dog.816.jpg', 'dog.464.jpg', 'dog.2312.jpg', 'dog.2464.jpg', 'dog.773.jpg', 'dog.2005.jpg', 'dog.312.jpg', 'dog.463.jpg', 'dog.811.jpg', 'dog.2315.jpg', 'dog.774.jpg', 'dog.2463.jpg', 'dog.315.jpg', 'dog.2002.jpg', 'dog.998.jpg', 'dog.949.jpg', 'dog.0.jpg', 'dog.2369.jpg', 'dog.708.jpg', 'dog.369.jpg', 'dog.650.jpg', 'dog.2126.jpg', 'dog.596.jpg', 'dog.231.jpg', 'dog.935.jpg', 'dog.547.jpg', 'dog.126.jpg', 'dog.681.jpg', 'dog.2231.jpg', 'dog.73.jpg', 'dog.622.jpg', 'dog.2292.jpg', 'dog.185.jpg', 'dog.243.jpg', 'dog.996.jpg', 'dog.2154.jpg', 'dog.292.jpg', 'dog.2185.jpg', 'dog.947.jpg', 'dog.535.jpg', 'dog.2243.jpg', 'dog.154.jpg', 'dog.411.jpg', 'dog.863.jpg', 'dog.2367.jpg', 'dog.2411.jpg', 'dog.706.jpg', 'dog.2070.jpg', 'dog.367.jpg', 'dog.598.jpg', 'dog.2128.jpg', 'dog.549.jpg', 'dog.128.jpg', 'dog.9.jpg', 'dog.864.jpg', 'dog.416.jpg', 'dog.2360.jpg', 'dog.701.jpg', 'dog.2416.jpg', 'dog.360.jpg', 'dog.2077.jpg', 'dog.659.jpg', 'dog.238.jpg', 'dog.2238.jpg', 'dog.688.jpg', 'dog.818.jpg', 'dog.74.jpg', 'dog.182.jpg', 'dog.625.jpg', 'dog.2295.jpg', 'dog.991.jpg', 'dog.2153.jpg', 'dog.244.jpg', 'dog.2182.jpg', 'dog.532.jpg', 'dog.940.jpg', 'dog.295.jpg', 'dog.153.jpg', 'dog.2244.jpg', 'dog.2042.jpg', 'dog.880.jpg', 'dog.355.jpg', 'dog.2423.jpg', 'dog.2384.jpg', 'dog.734.jpg', 'dog.2355.jpg', 'dog.851.jpg', 'dog.423.jpg', 'dog.2093.jpg', 'dog.384.jpg', 'dog.909.jpg', 'dog.329.jpg', 'dog.41.jpg', 'dog.748.jpg', 'dog.799.jpg', 'dog.2329.jpg', 'dog.90.jpg', 'dog.2271.jpg', 'dog.166.jpg', 'dog.507.jpg', 'dog.975.jpg', 'dog.271.jpg', 'dog.2166.jpg', 'dog.610.jpg', 'dog.2039.jpg', 'dog.489.jpg', 'dog.2458.jpg', 'dog.46.jpg', 'dog.97.jpg', 'dog.2489.jpg', 'dog.458.jpg', 'dog.161.jpg', 'dog.2276.jpg', 'dog.972.jpg', 'dog.500.jpg', 'dog.2161.jpg', 'dog.276.jpg', 'dog.617.jpg', 'dog.352.jpg', 'dog.2045.jpg', 'dog.887.jpg', 'dog.2383.jpg', 'dog.733.jpg', 'dog.2424.jpg', 'dog.2352.jpg', 'dog.383.jpg', 'dog.424.jpg', 'dog.856.jpg', 'dog.2094.jpg', 'dog.487.jpg', 'dog.2037.jpg', 'dog.320.jpg', 'dog.48.jpg', 'dog.2456.jpg', 'dog.741.jpg', 'dog.2487.jpg', 'dog.2320.jpg', 'dog.790.jpg', 'dog.99.jpg', 'dog.456.jpg', 'dog.824.jpg', 'dog.2278.jpg', 'dog.278.jpg', 'dog.619.jpg', 'dog.889.jpg', 'dog.34.jpg', 'dog.858.jpg', 'dog.2204.jpg', 'dog.113.jpg', 'dog.900.jpg', 'dog.572.jpg', 'dog.204.jpg', 'dog.2113.jpg', 'dog.665.jpg', 'dog.33.jpg', 'dog.114.jpg', 'dog.2203.jpg', 'dog.575.jpg', 'dog.907.jpg', 'dog.2114.jpg', 'dog.203.jpg', 'dog.662.jpg', 'dog.327.jpg', 'dog.480.jpg', 'dog.2030.jpg', 'dog.746.jpg', 'dog.2451.jpg', 'dog.2327.jpg', 'dog.797.jpg', 'dog.2480.jpg', 'dog.823.jpg', 'dog.451.jpg', 'dog.168.jpg', 'dog.509.jpg', 'dog.2168.jpg']\n"
     ]
    }
   ],
   "source": [
    "print((os.listdir('/tmp/PetImages/Cat/')))\n",
    "print((os.listdir('/tmp/PetImages/Dog/')))\n",
    "\n",
    "# Expected Output:\n",
    "# 1500\n",
    "# 1500"
   ]
  },
  {
   "cell_type": "code",
   "execution_count": 23,
   "metadata": {
    "colab": {},
    "colab_type": "code",
    "id": "F-QkLjxpmyK2"
   },
   "outputs": [
    {
     "name": "stdout",
     "output_type": "stream",
     "text": [
      "/tmp/cats-v-dogs failed\n",
      "/tmp/cats-v-dogs/training created\n",
      "/tmp/cats-v-dogs/testing created\n",
      "/tmp/cats-v-dogs/training/cats created\n",
      "/tmp/cats-v-dogs/training/dogs created\n",
      "/tmp/cats-v-dogs/testing/cats created\n",
      "/tmp/cats-v-dogs/testing/dogs created\n"
     ]
    }
   ],
   "source": [
    "# Use os.mkdir to create your directories\n",
    "# You will need a directory for cats-v-dogs, and subdirectories for training\n",
    "# and testing. These in turn will need subdirectories for 'cats' and 'dogs'\n",
    "to_create = [\n",
    "    '/tmp/cats-v-dogs',\n",
    "    '/tmp/cats-v-dogs/training',\n",
    "    '/tmp/cats-v-dogs/testing',\n",
    "    '/tmp/cats-v-dogs/training/cats',\n",
    "    '/tmp/cats-v-dogs/training/dogs',\n",
    "    '/tmp/cats-v-dogs/testing/cats',\n",
    "    '/tmp/cats-v-dogs/testing/dogs'\n",
    "]\n",
    "\n",
    "for directory in to_create:\n",
    "    try:\n",
    "        os.mkdir(directory)\n",
    "        print(directory, 'created')\n",
    "    except:\n",
    "        print(directory, 'failed')"
   ]
  },
  {
   "cell_type": "code",
   "execution_count": 25,
   "metadata": {
    "colab": {},
    "colab_type": "code",
    "id": "zvSODo0f9LaU"
   },
   "outputs": [],
   "source": [
    "# Write a python function called split_data which takes\n",
    "# a SOURCE directory containing the files\n",
    "# a TRAINING directory that a portion of the files will be copied to\n",
    "# a TESTING directory that a portion of the files will be copie to\n",
    "# a SPLIT SIZE to determine the portion\n",
    "# The files should also be randomized, so that the training set is a random\n",
    "# X% of the files, and the test set is the remaining files\n",
    "# SO, for example, if SOURCE is PetImages/Cat, and SPLIT SIZE is .9\n",
    "# Then 90% of the images in PetImages/Cat will be copied to the TRAINING dir\n",
    "# and 10% of the images will be copied to the TESTING dir\n",
    "# Also -- All images should be checked, and if they have a zero file length,\n",
    "# they will not be copied over\n",
    "#\n",
    "# os.listdir(DIRECTORY) gives you a listing of the contents of that directory\n",
    "# os.path.getsize(PATH) gives you the size of the file\n",
    "# copyfile(source, destination) copies a file from source to destination\n",
    "# random.sample(list, len(list)) shuffles a list\n",
    "def split_data(SOURCE, TRAINING, TESTING, SPLIT_SIZE):\n",
    "# YOUR CODE STARTS HERE\n",
    "# YOUR CODE ENDS HERE\n",
    "    all_files = []\n",
    "    for filename in os.listdir(SOURCE):\n",
    "        file_path = SOURCE+filename\n",
    "        \n",
    "        \n",
    "        if os.path.getsize(file_path):\n",
    "            all_files.append(filename)\n",
    "        else:\n",
    "            print('{} is zero length, so ignoring'.format(file_name))\n",
    "            \n",
    "            \n",
    "        n_files = len(all_files)\n",
    "        splitPoint = int(n_files * SPLIT_SIZE)\n",
    "        \n",
    "        shuffle = random.sample(all_files, n_files)\n",
    "        \n",
    "        TrainSet = shuffle[:splitPoint]\n",
    "        TestSet = shuffle[:splitPoint]\n",
    "    \n",
    "    for filename in TrainSet:    \n",
    "        copyfile(SOURCE+filename, TRAINING+filename)\n",
    "        \n",
    "    for filename in TestSet:\n",
    "        copyfile(SOURCE+filename, TESTING+filename)\n",
    "\n",
    "\n",
    "CAT_SOURCE_DIR = \"/tmp/PetImages/Cat/\"\n",
    "TRAINING_CATS_DIR = \"/tmp/cats-v-dogs/training/cats/\"\n",
    "TESTING_CATS_DIR = \"/tmp/cats-v-dogs/testing/cats/\"\n",
    "DOG_SOURCE_DIR = \"/tmp/PetImages/Dog/\"\n",
    "TRAINING_DOGS_DIR = \"/tmp/cats-v-dogs/training/dogs/\"\n",
    "TESTING_DOGS_DIR = \"/tmp/cats-v-dogs/testing/dogs/\"\n",
    "\n",
    "split_size = .9\n",
    "split_data(CAT_SOURCE_DIR, TRAINING_CATS_DIR, TESTING_CATS_DIR, split_size)\n",
    "split_data(DOG_SOURCE_DIR, TRAINING_DOGS_DIR, TESTING_DOGS_DIR, split_size)"
   ]
  },
  {
   "cell_type": "code",
   "execution_count": 26,
   "metadata": {
    "colab": {},
    "colab_type": "code",
    "id": "luthalB76ufC"
   },
   "outputs": [
    {
     "name": "stdout",
     "output_type": "stream",
     "text": [
      "1350\n",
      "1350\n",
      "1350\n",
      "1350\n"
     ]
    }
   ],
   "source": [
    "print(len(os.listdir('/tmp/cats-v-dogs/training/cats/')))\n",
    "print(len(os.listdir('/tmp/cats-v-dogs/training/dogs/')))\n",
    "print(len(os.listdir('/tmp/cats-v-dogs/testing/cats/')))\n",
    "print(len(os.listdir('/tmp/cats-v-dogs/testing/dogs/')))\n",
    "\n",
    "\n",
    "# Expected output:\n",
    "# 1350\n",
    "# 1350\n",
    "# 150\n",
    "# 150"
   ]
  },
  {
   "cell_type": "code",
   "execution_count": 27,
   "metadata": {
    "colab": {},
    "colab_type": "code",
    "id": "-BQrav4anTmj"
   },
   "outputs": [],
   "source": [
    "# DEFINE A KERAS MODEL TO CLASSIFY CATS V DOGS\n",
    "# USE AT LEAST 3 CONVOLUTION LAYERS\n",
    "model = tf.keras.models.Sequential([\n",
    "# YOUR CODE HERE\n",
    "    tf.keras.layers.Conv2D(32,(3,3),activation='relu', input_shape=(150,150,3)),\n",
    "    tf.keras.layers.MaxPooling2D(2,2),\n",
    "    tf.keras.layers.Conv2D(32,(3,3),activation='relu'),\n",
    "    tf.keras.layers.MaxPooling2D(2,2),\n",
    "    tf.keras.layers.Conv2D(32,(3,3),activation='relu'),\n",
    "    tf.keras.layers.MaxPooling2D(2,2),\n",
    "    tf.keras.layers.Flatten(),\n",
    "    tf.keras.layers.Dense(512, activation='relu'),\n",
    "    tf.keras.layers.Dense(1, activation='sigmoid')\n",
    "])\n",
    "\n",
    "model.compile(optimizer=RMSprop(lr=0.001), loss='binary_crossentropy', metrics=['acc'])"
   ]
  },
  {
   "cell_type": "markdown",
   "metadata": {},
   "source": [
    "# NOTE:\n",
    "\n",
    "In the cell below you **MUST** use a batch size of 10 (`batch_size=10`) for the `train_generator` and the `validation_generator`. Using a batch size greater than 10 will exceed memory limits on the Coursera platform."
   ]
  },
  {
   "cell_type": "code",
   "execution_count": 40,
   "metadata": {
    "colab": {},
    "colab_type": "code",
    "id": "mlNjoJ5D61N6"
   },
   "outputs": [
    {
     "name": "stdout",
     "output_type": "stream",
     "text": [
      "Found 2700 images belonging to 2 classes.\n",
      "Found 2700 images belonging to 2 classes.\n"
     ]
    }
   ],
   "source": [
    "TRAINING_DIR = '/tmp/cats-v-dogs/training'\n",
    "train_datagen = ImageDataGenerator(rescale=1 / 255)\n",
    "train_generator = train_datagen.flow_from_directory(\n",
    "    TRAINING_DIR,\n",
    "    batch_size=64,\n",
    "    class_mode='binary',\n",
    "    target_size=(150, 150)\n",
    ")\n",
    "\n",
    "VALIDATION_DIR = '/tmp/cats-v-dogs/testing'\n",
    "validation_datagen = ImageDataGenerator(rescale= 1/255)\n",
    "validation_generator = validation_datagen.flow_from_directory(\n",
    "    VALIDATION_DIR,\n",
    "    batch_size=10,\n",
    "    class_mode='binary',\n",
    "    target_size=(150, 150)\n",
    ")\n",
    "\n",
    "# Expected Output:\n",
    "# Found 2700 images belonging to 2 classes.\n",
    "# Found 300 images belonging to 2 classes."
   ]
  },
  {
   "cell_type": "code",
   "execution_count": null,
   "metadata": {
    "colab": {},
    "colab_type": "code",
    "id": "KyS4n53w7DxC"
   },
   "outputs": [],
   "source": [
    "history = model.fit_generator(train_generator,\n",
    "                              epochs=2,\n",
    "                              verbose=1,\n",
    "                              validation_data=validation_generator)\n"
   ]
  },
  {
   "cell_type": "code",
   "execution_count": 41,
   "metadata": {
    "colab": {},
    "colab_type": "code",
    "id": "MWZrJN4-65RC"
   },
   "outputs": [
    {
     "data": {
      "text/plain": [
       "Text(0.5, 1.0, 'Training and validation loss')"
      ]
     },
     "execution_count": 41,
     "metadata": {},
     "output_type": "execute_result"
    },
    {
     "data": {
      "image/png": "[encoded data removed]",
      "text/plain": [
       "<Figure size 432x288 with 1 Axes>"
      ]
     },
     "metadata": {
      "needs_background": "light"
     },
     "output_type": "display_data"
    },
    {
     "data": {
      "image/png": "[encoded data removed]",
      "text/plain": [
       "<Figure size 432x288 with 1 Axes>"
      ]
     },
     "metadata": {
      "needs_background": "light"
     },
     "output_type": "display_data"
    }
   ],
   "source": [
    "# PLOT LOSS AND ACCURACY\n",
    "%matplotlib inline\n",
    "\n",
    "import matplotlib.image  as mpimg\n",
    "import matplotlib.pyplot as plt\n",
    "\n",
    "#-----------------------------------------------------------\n",
    "# Retrieve a list of list results on training and test data\n",
    "# sets for each training epoch\n",
    "#-----------------------------------------------------------\n",
    "acc=history.history['acc']\n",
    "val_acc=history.history['val_acc']\n",
    "loss=history.history['loss']\n",
    "val_loss=history.history['val_loss']\n",
    "\n",
    "epochs=range(len(acc)) # Get number of epochs\n",
    "\n",
    "#------------------------------------------------\n",
    "# Plot training and validation accuracy per epoch\n",
    "#------------------------------------------------\n",
    "plt.plot(epochs, acc, 'r', \"Training Accuracy\")\n",
    "plt.plot(epochs, val_acc, 'b', \"Validation Accuracy\")\n",
    "plt.title('Training and validation accuracy')\n",
    "plt.figure()\n",
    "\n",
    "#------------------------------------------------\n",
    "# Plot training and validation loss per epoch\n",
    "#------------------------------------------------\n",
    "plt.plot(epochs, loss, 'r', \"Training Loss\")\n",
    "plt.plot(epochs, val_loss, 'b', \"Validation Loss\")\n",
    "\n",
    "\n",
    "plt.title('Training and validation loss')\n",
    "\n",
    "# Desired output. Charts with training and validation metrics. No crash :)"
   ]
  },
  {
   "cell_type": "markdown",
   "metadata": {},
   "source": [
    "# Submission Instructions"
   ]
  },
  {
   "cell_type": "code",
   "execution_count": null,
   "metadata": {},
   "outputs": [],
   "source": [
    "# Now click the 'Submit Assignment' button above."
   ]
  },
  {
   "cell_type": "markdown",
   "metadata": {},
   "source": [
    "# When you're done or would like to take a break, please run the two cells below to save your work and close the Notebook. This will free up resources for your fellow learners. "
   ]
  },
  {
   "cell_type": "code",
   "execution_count": null,
   "metadata": {},
   "outputs": [],
   "source": [
    "%%javascript\n",
    "<!-- Save the notebook -->\n",
    "IPython.notebook.save_checkpoint();"
   ]
  },
  {
   "cell_type": "code",
   "execution_count": null,
   "metadata": {},
   "outputs": [],
   "source": [
    "%%javascript\n",
    "IPython.notebook.session.delete();\n",
    "window.onbeforeunload = null\n",
    "setTimeout(function() { window.close(); }, 1000);"
   ]
  }
 ],
 "metadata": {
  "accelerator": "GPU",
  "colab": {
   "collapsed_sections": [],
   "name": "Exercise 5 - Question.ipynb",
   "provenance": []
  },
  "coursera": {
   "course_slug": "convolutional-neural-networks-tensorflow",
   "graded_item_id": "laIUG",
   "launcher_item_id": "jjQWM"
  },
  "kernelspec": {
   "display_name": "Python 3",
   "language": "python",
   "name": "python3"
  },
  "language_info": {
   "codemirror_mode": {
    "name": "ipython",
    "version": 3
   },
   "file_extension": ".py",
   "mimetype": "text/x-python",
   "name": "python",
   "nbconvert_exporter": "python",
   "pygments_lexer": "ipython3",
   "version": "3.6.8"
  }
 },
 "nbformat": 4,
 "nbformat_minor": 1
}
